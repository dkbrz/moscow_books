{
 "cells": [
  {
   "cell_type": "code",
   "execution_count": 10,
   "metadata": {},
   "outputs": [],
   "source": [
    "import json\n",
    "from pprint import pprint"
   ]
  },
  {
   "cell_type": "markdown",
   "metadata": {},
   "source": [
    "## Books.jsn"
   ]
  },
  {
   "cell_type": "code",
   "execution_count": 2,
   "metadata": {},
   "outputs": [],
   "source": [
    "data = json.load(open(\"../raw_data/dataset/books.jsn\"))"
   ]
  },
  {
   "cell_type": "code",
   "execution_count": 3,
   "metadata": {
    "scrolled": false
   },
   "outputs": [
    {
     "data": {
      "text/plain": [
       "{'id': 1272541,\n",
       " 'parentId': 0,\n",
       " 'bbk': '84(2Рос=Рус)1',\n",
       " 'title': 'Бесы',\n",
       " 'year': '2013',\n",
       " 'parentAuthor': 0,\n",
       " 'contribution': 'Федор Достоевский',\n",
       " 'parentNumberOfPart': '',\n",
       " 'isbn': '978-5-17-063255-8',\n",
       " 'annotation': '\"Бесы\"- одно из наиболее трагических, загадочных и притягательных произведений Ф.М.Достоевского. Идейно-философская канва романа, написанного в 1872 году, оказалась пророческой: события XX века во многом подтвердили гениальность писательского предвидения',\n",
       " 'edition': '',\n",
       " 'nextAuthor': '',\n",
       " 'keyword': 'роман',\n",
       " 'issn': '',\n",
       " 'deleted': False,\n",
       " 'titleOfPart': '',\n",
       " 'titleAdditionalInfo': '',\n",
       " 'bibliographyLevel': 26,\n",
       " 'numberOfPart': '',\n",
       " 'volume': '604, [2] с.',\n",
       " 'parentTitle': '',\n",
       " 'parentAdditionalInfo': '',\n",
       " 'parentPlace': 0,\n",
       " 'parentPublisher': 0,\n",
       " 'parentYear': '',\n",
       " 'changed': '2020-02-04T10:57:39',\n",
       " 'parallelTitle': '',\n",
       " 'person': 0,\n",
       " 'parentEdition': '',\n",
       " 'udk': '',\n",
       " 'cover': '',\n",
       " 'node': False,\n",
       " 'publicationType': 'mono',\n",
       " 'language_id': 1,\n",
       " 'language_name': 'Русский',\n",
       " 'material_id': 6583,\n",
       " 'material_name': 'Текст',\n",
       " 'ageRestriction_id': None,\n",
       " 'ageRestriction_name': None,\n",
       " 'rubric_id': 479,\n",
       " 'rubric_name': 'Художественная литература',\n",
       " 'rubric_parentId': None,\n",
       " 'author_id': 45567,\n",
       " 'author_dates': '1821-1881',\n",
       " 'author_info': None,\n",
       " 'author_surname': 'Достоевский',\n",
       " 'author_names': 'Федор Михайлович',\n",
       " 'author_initials': 'Ф. М.',\n",
       " 'author_fullName': 'Достоевский Федор Михайлович',\n",
       " 'author_fullNameAlt': 'Достоевский Ф. М.',\n",
       " 'publisher_id': 36,\n",
       " 'publisher_name': 'АСТ',\n",
       " 'place_id': 135,\n",
       " 'place_name': 'Москва',\n",
       " 'serial_id': 12584,\n",
       " 'serial_name': 'Русская классика',\n",
       " 'year_value': 2013,\n",
       " 'common_search_field': 'Бесы, Достоевский Федор Михайлович, АСТ',\n",
       " 'collapse_field': '8b7355ec9ebf6ae5fdb84f917be6cc54',\n",
       " 'title_orig': 'Бесы',\n",
       " 'totalOutCount': 2,\n",
       " 'totalInplaceCount': 0,\n",
       " 'freeCount': 2,\n",
       " 'freeHands': 2,\n",
       " 'freeOnline': 2,\n",
       " 'orderedCount': 0,\n",
       " 'outputCount': 0,\n",
       " 'available': 2,\n",
       " 'libraryAvailability': [{'libraryId': 284384370001,\n",
       "   'totalOutCount': 1,\n",
       "   'totalInplaceCount': 0,\n",
       "   'freeCount': 1,\n",
       "   'orderedCount': 0,\n",
       "   'outputCount': 0,\n",
       "   'available': True,\n",
       "   'freeHands': 1,\n",
       "   'freeOnline': 1,\n",
       "   'shortLibraryId': 284384370,\n",
       "   'filter_library': {'freeHands_gt_0': '284384370.True',\n",
       "    'freeOnline_gt_0': '284384370.True',\n",
       "    'available_true': '284384370.True'}},\n",
       "  {'libraryId': 284384321001,\n",
       "   'totalOutCount': 1,\n",
       "   'totalInplaceCount': 0,\n",
       "   'freeCount': 1,\n",
       "   'orderedCount': 0,\n",
       "   'outputCount': 0,\n",
       "   'available': True,\n",
       "   'freeHands': 1,\n",
       "   'freeOnline': 1,\n",
       "   'shortLibraryId': 284384321,\n",
       "   'filter_library': {'freeHands_gt_0': '284384321.True',\n",
       "    'freeOnline_gt_0': '284384321.True',\n",
       "    'available_true': '284384321.True'}}],\n",
       " 'smart_collapse_field': 'b94346ffebd548a5e01a1c3b84665578',\n",
       " 'author_surname_for_sort': 'достоевский',\n",
       " 'author_surname_language_level': 1,\n",
       " 'title_for_sort': 'бесы',\n",
       " 'title_language_level': 1,\n",
       " 'publisher_name_for_sort': 'аст',\n",
       " 'publisher_name_language_level': 1,\n",
       " 'serial_name_for_sort': 'русскаяклассика',\n",
       " 'serial_name_language_level': 1,\n",
       " 'dates': '',\n",
       " 'info': '',\n",
       " 'initials': '',\n",
       " 'eiskId': 0,\n",
       " 'fixed': False,\n",
       " 'siglaEiskId': 0,\n",
       " 'pointEiskId': 0,\n",
       " 'language': 0,\n",
       " 'material': 0,\n",
       " 'ageRestriction': 0,\n",
       " 'rubric': 0,\n",
       " 'author': 0,\n",
       " 'publisher': 0,\n",
       " 'place': 0,\n",
       " 'serial': 0,\n",
       " 'f_deleted': False,\n",
       " 'libraryId': 0,\n",
       " 'catalogueId': 0,\n",
       " 'start_timestamp': 0,\n",
       " 'end_timestamp': 0}"
      ]
     },
     "execution_count": 3,
     "metadata": {},
     "output_type": "execute_result"
    }
   ],
   "source": [
    "data[0]"
   ]
  },
  {
   "cell_type": "code",
   "execution_count": 4,
   "metadata": {},
   "outputs": [],
   "source": [
    "with open(\"../data/books.jsonlines\", \"w\") as f:\n",
    "    for line in data:\n",
    "        f.write(json.dumps(line, ensure_ascii=False) + \"\\n\")"
   ]
  },
  {
   "cell_type": "markdown",
   "metadata": {},
   "source": [
    "## Books_full.jsn.tag"
   ]
  },
  {
   "cell_type": "code",
   "execution_count": 6,
   "metadata": {
    "scrolled": true
   },
   "outputs": [
    {
     "name": "stdout",
     "output_type": "stream",
     "text": [
      "NO\n",
      "NO\n"
     ]
    }
   ],
   "source": [
    "fpath = \"../raw_data/dataset/extra/books_full.jsn.tag/books_full.jsn.tag\"\n",
    "\n",
    "with open(\"../data/books_full.jsonlines\", \"w\", encoding=\"utf-8\") as f:\n",
    "    for line in open(fpath, encoding=\"utf-8\", errors=\"ignore\"):\n",
    "        if line.startswith(\"{\"):\n",
    "            f.write(line.strip().strip(\",\") + \"\\n\")\n",
    "        else:\n",
    "            print(\"NO\")"
   ]
  },
  {
   "cell_type": "code",
   "execution_count": 7,
   "metadata": {},
   "outputs": [
    {
     "name": "stdout",
     "output_type": "stream",
     "text": [
      "|"
     ]
    }
   ],
   "source": [
    "for line in open(\"../data/books_full.jsonlines\"):\n",
    "    try:\n",
    "        json.loads(line)\n",
    "    except:\n",
    "        print(\"|\", end=\"\")"
   ]
  },
  {
   "cell_type": "code",
   "execution_count": 11,
   "metadata": {
    "scrolled": false
   },
   "outputs": [
    {
     "name": "stdout",
     "output_type": "stream",
     "text": [
      "{'ageRestriction': 0,\n",
      " 'ageRestriction_id': None,\n",
      " 'ageRestriction_name': None,\n",
      " 'annotation': '',\n",
      " 'author': 0,\n",
      " 'author_dates': None,\n",
      " 'author_fullName': None,\n",
      " 'author_fullNameAlt': None,\n",
      " 'author_id': None,\n",
      " 'author_info': None,\n",
      " 'author_initials': None,\n",
      " 'author_names': None,\n",
      " 'author_surname': None,\n",
      " 'author_surname_for_sort': '',\n",
      " 'author_surname_language_level': 3,\n",
      " 'available': 1,\n",
      " 'bbk': '63.3(0)',\n",
      " 'bibliographyLevel': 26,\n",
      " 'catalogueId': 0,\n",
      " 'changed': '2019-12-24T00:22:06',\n",
      " 'collapse_field': '9123ba840c7a63da5c1f13af9f4db75e',\n",
      " 'common_search_field': 'Великие правители, Мир энциклопедий Аванта+',\n",
      " 'contribution': '',\n",
      " 'cover': '',\n",
      " 'dates': '',\n",
      " 'deleted': False,\n",
      " 'edition': '',\n",
      " 'eiskId': 0,\n",
      " 'end_timestamp': 0,\n",
      " 'f_deleted': False,\n",
      " 'fixed': False,\n",
      " 'freeCount': 1,\n",
      " 'freeHands': 0,\n",
      " 'freeOnline': 0,\n",
      " 'id': 397272,\n",
      " 'info': '',\n",
      " 'initials': '',\n",
      " 'isbn': '5-9898601-0-2',\n",
      " 'issn': '',\n",
      " 'keyword': '',\n",
      " 'language': 0,\n",
      " 'language_id': None,\n",
      " 'language_name': None,\n",
      " 'libraryAvailability': [{'available': True,\n",
      "                          'filter_library': {'available_true': '284385857.True',\n",
      "                                             'freeHands_gt_0': '284385857.False',\n",
      "                                             'freeOnline_gt_0': '284385857.False'},\n",
      "                          'freeCount': 1,\n",
      "                          'freeHands': 0,\n",
      "                          'freeOnline': 0,\n",
      "                          'libraryId': 284385857001,\n",
      "                          'orderedCount': 0,\n",
      "                          'outputCount': 0,\n",
      "                          'shortLibraryId': 284385857,\n",
      "                          'totalInplaceCount': 1,\n",
      "                          'totalOutCount': 0}],\n",
      " 'libraryId': 0,\n",
      " 'material': 0,\n",
      " 'material_id': 6583,\n",
      " 'material_name': 'Текст',\n",
      " 'nextAuthor': '',\n",
      " 'node': False,\n",
      " 'numberOfPart': '',\n",
      " 'orderedCount': 0,\n",
      " 'outputCount': 0,\n",
      " 'parallelTitle': '',\n",
      " 'parentAdditionalInfo': '',\n",
      " 'parentAuthor': 0,\n",
      " 'parentEdition': '',\n",
      " 'parentId': 0,\n",
      " 'parentNumberOfPart': '',\n",
      " 'parentPlace': 0,\n",
      " 'parentPublisher': 0,\n",
      " 'parentTitle': '',\n",
      " 'parentYear': '',\n",
      " 'person': 0,\n",
      " 'place': 0,\n",
      " 'place_id': 135,\n",
      " 'place_name': 'Москва',\n",
      " 'pointEiskId': 0,\n",
      " 'publicationType': 'mono',\n",
      " 'publisher': 0,\n",
      " 'publisher_id': 600,\n",
      " 'publisher_name': 'Мир энциклопедий Аванта+',\n",
      " 'publisher_name_for_sort': 'мирэнциклопедийаванта',\n",
      " 'publisher_name_language_level': 1,\n",
      " 'rubric': 0,\n",
      " 'rubric_id': 13,\n",
      " 'rubric_name': 'История в целом. Всемирная история',\n",
      " 'rubric_parentId': 11,\n",
      " 'serial': 0,\n",
      " 'serial_id': None,\n",
      " 'serial_name': None,\n",
      " 'serial_name_for_sort': '',\n",
      " 'serial_name_language_level': 3,\n",
      " 'siglaEiskId': 0,\n",
      " 'smart_collapse_field': '0c27869e847e67cedba21d2767b6434c',\n",
      " 'start_timestamp': 0,\n",
      " 'title': 'Великие правители',\n",
      " 'titleAdditionalInfo': '',\n",
      " 'titleOfPart': '',\n",
      " 'title_for_sort': 'великиеправители',\n",
      " 'title_language_level': 1,\n",
      " 'title_orig': 'Великие правители',\n",
      " 'totalInplaceCount': 1,\n",
      " 'totalOutCount': 0,\n",
      " 'udk': '',\n",
      " 'volume': '443 с.',\n",
      " 'year': '2005',\n",
      " 'year_value': 2005}\n"
     ]
    }
   ],
   "source": [
    "for line in open(\"../data/books_full.jsonlines\"):\n",
    "    res = json.loads(line)\n",
    "    pprint(res)\n",
    "    break"
   ]
  }
 ],
 "metadata": {
  "kernelspec": {
   "display_name": "Python 3",
   "language": "python",
   "name": "python3"
  },
  "language_info": {
   "codemirror_mode": {
    "name": "ipython",
    "version": 3
   },
   "file_extension": ".py",
   "mimetype": "text/x-python",
   "name": "python",
   "nbconvert_exporter": "python",
   "pygments_lexer": "ipython3",
   "version": "3.8.10"
  }
 },
 "nbformat": 4,
 "nbformat_minor": 4
}
