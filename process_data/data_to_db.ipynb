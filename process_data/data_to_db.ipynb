{
 "cells": [
  {
   "cell_type": "code",
   "execution_count": 1,
   "metadata": {},
   "outputs": [],
   "source": [
    "import pandas as pd\n",
    "import sqlite3\n",
    "import json\n",
    "from tqdm.auto import tqdm"
   ]
  },
  {
   "cell_type": "code",
   "execution_count": 2,
   "metadata": {},
   "outputs": [],
   "source": [
    "db = sqlite3.connect(\"datasets.db\")\n",
    "cur = db.cursor()"
   ]
  },
  {
   "cell_type": "code",
   "execution_count": 3,
   "metadata": {},
   "outputs": [],
   "source": [
    "keys = [\n",
    "    \"id\",\n",
    "    \"collapse_field\",\n",
    "\n",
    "    \"title\",\n",
    "    \n",
    "    \"rubric_id\",\n",
    "    \"rubric_name\",\n",
    "    \"rubric_parentId\",\n",
    "\n",
    "    \"serial_id\",\n",
    "    \"serial_name\",\n",
    "    \n",
    "    \"language_id\",\n",
    "    \"language_name\",\n",
    "\n",
    "    \"author_id\",\n",
    "    \"author_dates\",\n",
    "    \"author_fullName\",\n",
    "    \n",
    "    \"available\",\n",
    "\n",
    "    \"year_value\",\n",
    "]"
   ]
  },
  {
   "cell_type": "code",
   "execution_count": 4,
   "metadata": {},
   "outputs": [
    {
     "name": "stdout",
     "output_type": "stream",
     "text": [
      "2181593 ../data/books_full.jsonlines\r\n"
     ]
    }
   ],
   "source": [
    "! wc -l ../data/books_full.jsonlines"
   ]
  },
  {
   "cell_type": "code",
   "execution_count": null,
   "metadata": {},
   "outputs": [
    {
     "data": {
      "application/vnd.jupyter.widget-view+json": {
       "model_id": "8efab92981d84d39bcd1e139496b7531",
       "version_major": 2,
       "version_minor": 0
      },
      "text/plain": [
       "  0%|          | 0/2181593 [00:00<?, ?it/s]"
      ]
     },
     "metadata": {},
     "output_type": "display_data"
    }
   ],
   "source": [
    "data = []\n",
    "\n",
    "k = 0\n",
    "for line in tqdm(open(\"../data/books_full.jsonlines\"), total=2181593):\n",
    "    row = json.loads(line)\n",
    "    res = []\n",
    "    for key in keys:\n",
    "        res.append(row.get(key))\n",
    "    data.append(res)\n",
    "    k += 1\n",
    "#     if k > 1000:\n",
    "#         break"
   ]
  },
  {
   "cell_type": "code",
   "execution_count": 6,
   "metadata": {},
   "outputs": [
    {
     "data": {
      "text/plain": [
       "2181592"
      ]
     },
     "execution_count": 6,
     "metadata": {},
     "output_type": "execute_result"
    }
   ],
   "source": [
    "len(data)"
   ]
  },
  {
   "cell_type": "code",
   "execution_count": 7,
   "metadata": {},
   "outputs": [],
   "source": [
    "df = pd.DataFrame(data, columns=keys)"
   ]
  },
  {
   "cell_type": "code",
   "execution_count": 8,
   "metadata": {},
   "outputs": [
    {
     "data": {
      "text/html": [
       "<div>\n",
       "<style scoped>\n",
       "    .dataframe tbody tr th:only-of-type {\n",
       "        vertical-align: middle;\n",
       "    }\n",
       "\n",
       "    .dataframe tbody tr th {\n",
       "        vertical-align: top;\n",
       "    }\n",
       "\n",
       "    .dataframe thead th {\n",
       "        text-align: right;\n",
       "    }\n",
       "</style>\n",
       "<table border=\"1\" class=\"dataframe\">\n",
       "  <thead>\n",
       "    <tr style=\"text-align: right;\">\n",
       "      <th></th>\n",
       "      <th>id</th>\n",
       "      <th>collapse_field</th>\n",
       "      <th>title</th>\n",
       "      <th>rubric_id</th>\n",
       "      <th>rubric_name</th>\n",
       "      <th>rubric_parentId</th>\n",
       "      <th>serial_id</th>\n",
       "      <th>serial_name</th>\n",
       "      <th>language_id</th>\n",
       "      <th>language_name</th>\n",
       "      <th>author_id</th>\n",
       "      <th>author_dates</th>\n",
       "      <th>author_fullName</th>\n",
       "      <th>available</th>\n",
       "      <th>year_value</th>\n",
       "    </tr>\n",
       "  </thead>\n",
       "  <tbody>\n",
       "    <tr>\n",
       "      <th>0</th>\n",
       "      <td>397272</td>\n",
       "      <td>9123ba840c7a63da5c1f13af9f4db75e</td>\n",
       "      <td>Великие правители</td>\n",
       "      <td>13.0</td>\n",
       "      <td>История в целом. Всемирная история</td>\n",
       "      <td>11.0</td>\n",
       "      <td>NaN</td>\n",
       "      <td>None</td>\n",
       "      <td>NaN</td>\n",
       "      <td>None</td>\n",
       "      <td>NaN</td>\n",
       "      <td>None</td>\n",
       "      <td>None</td>\n",
       "      <td>1</td>\n",
       "      <td>2005.0</td>\n",
       "    </tr>\n",
       "    <tr>\n",
       "      <th>1</th>\n",
       "      <td>397417</td>\n",
       "      <td>a19bac4ab9cc1df78b95a0534c649a4f</td>\n",
       "      <td>Волею императрицы : Ист.романы</td>\n",
       "      <td>479.0</td>\n",
       "      <td>Художественная литература</td>\n",
       "      <td>NaN</td>\n",
       "      <td>4495.0</td>\n",
       "      <td>Государи Руси Великой</td>\n",
       "      <td>1.0</td>\n",
       "      <td>Русский</td>\n",
       "      <td>126874.0</td>\n",
       "      <td>None</td>\n",
       "      <td>Щепкина А. В.</td>\n",
       "      <td>1</td>\n",
       "      <td>1996.0</td>\n",
       "    </tr>\n",
       "  </tbody>\n",
       "</table>\n",
       "</div>"
      ],
      "text/plain": [
       "       id                    collapse_field                           title  \\\n",
       "0  397272  9123ba840c7a63da5c1f13af9f4db75e               Великие правители   \n",
       "1  397417  a19bac4ab9cc1df78b95a0534c649a4f  Волею императрицы : Ист.романы   \n",
       "\n",
       "   rubric_id                         rubric_name  rubric_parentId  serial_id  \\\n",
       "0       13.0  История в целом. Всемирная история             11.0        NaN   \n",
       "1      479.0           Художественная литература              NaN     4495.0   \n",
       "\n",
       "             serial_name  language_id language_name  author_id author_dates  \\\n",
       "0                   None          NaN          None        NaN         None   \n",
       "1  Государи Руси Великой          1.0       Русский   126874.0         None   \n",
       "\n",
       "  author_fullName  available  year_value  \n",
       "0            None          1      2005.0  \n",
       "1   Щепкина А. В.          1      1996.0  "
      ]
     },
     "execution_count": 8,
     "metadata": {},
     "output_type": "execute_result"
    }
   ],
   "source": [
    "df.head(2)"
   ]
  },
  {
   "cell_type": "code",
   "execution_count": 9,
   "metadata": {},
   "outputs": [
    {
     "data": {
      "text/plain": [
       "1909342"
      ]
     },
     "execution_count": 9,
     "metadata": {},
     "output_type": "execute_result"
    }
   ],
   "source": [
    "df[\"collapse_field\"].nunique()"
   ]
  },
  {
   "cell_type": "code",
   "execution_count": 10,
   "metadata": {},
   "outputs": [],
   "source": [
    "def toint(x):\n",
    "    try:\n",
    "        if type(x) == int:\n",
    "            return x\n",
    "        if type(x) == str and \".\" in x:\n",
    "            return int(x.split(\".\")[0])\n",
    "        return int(x)\n",
    "    except:\n",
    "#         print(x)\n",
    "        return -1"
   ]
  },
  {
   "cell_type": "code",
   "execution_count": 11,
   "metadata": {},
   "outputs": [],
   "source": [
    "for key in [\"rubric_id\", \"rubric_parentId\", \"serial_id\", \"language_id\", \"author_id\", \"year_value\"]:\n",
    "    df[key] = df[key].apply(toint)"
   ]
  },
  {
   "cell_type": "code",
   "execution_count": 14,
   "metadata": {},
   "outputs": [
    {
     "name": "stdout",
     "output_type": "stream",
     "text": [
      "<class 'pandas.core.frame.DataFrame'>\n",
      "RangeIndex: 2181592 entries, 0 to 2181591\n",
      "Data columns (total 15 columns):\n",
      " #   Column           Dtype \n",
      "---  ------           ----- \n",
      " 0   id               int64 \n",
      " 1   collapse_field   object\n",
      " 2   title            object\n",
      " 3   rubric_id        int64 \n",
      " 4   rubric_name      object\n",
      " 5   rubric_parentId  int64 \n",
      " 6   serial_id        int64 \n",
      " 7   serial_name      object\n",
      " 8   language_id      int64 \n",
      " 9   language_name    object\n",
      " 10  author_id        int64 \n",
      " 11  author_dates     object\n",
      " 12  author_fullName  object\n",
      " 13  available        int64 \n",
      " 14  year_value       int64 \n",
      "dtypes: int64(8), object(7)\n",
      "memory usage: 249.7+ MB\n"
     ]
    }
   ],
   "source": [
    "df.info()"
   ]
  },
  {
   "cell_type": "code",
   "execution_count": 15,
   "metadata": {},
   "outputs": [],
   "source": [
    "df.to_sql(\"books\", con=db)"
   ]
  },
  {
   "cell_type": "code",
   "execution_count": 16,
   "metadata": {},
   "outputs": [],
   "source": [
    "for key in [\"rubric_id\", \"rubric_parentId\", \"serial_id\", \"language_id\", \"author_id\", \"year_value\"]:\n",
    "    cur.execute(f\"UPDATE books SET {key} = NULL WHERE {key} = -1\")\n",
    "    db.commit()"
   ]
  },
  {
   "cell_type": "code",
   "execution_count": 17,
   "metadata": {},
   "outputs": [],
   "source": [
    "PATH = \"/home/dkbrz/github/moscow_books/raw_data/dataset/datasets_biblioteki/datasets_2/\""
   ]
  },
  {
   "cell_type": "code",
   "execution_count": 18,
   "metadata": {},
   "outputs": [],
   "source": [
    "data = []"
   ]
  },
  {
   "cell_type": "code",
   "execution_count": 19,
   "metadata": {},
   "outputs": [],
   "source": [
    "states = {\n",
    "    \"Размещен в фонде\": 0,\n",
    "    \"Переоформлен\": 1,\n",
    "    \"На руках\": 2,\n",
    "    \"Принят у читателя\": 3,\n",
    "    \"Возвращен на пункт книговыдачи\": 4,\n",
    "    \"Прибыл\": 5,\n",
    "    \"Отправлен\": 6,\n",
    "}"
   ]
  },
  {
   "cell_type": "code",
   "execution_count": 21,
   "metadata": {},
   "outputs": [
    {
     "data": {
      "application/vnd.jupyter.widget-view+json": {
       "model_id": "e2eb711d981340dc821814e0254e79fd",
       "version_major": 2,
       "version_minor": 0
      },
      "text/plain": [
       "  0%|          | 0/16 [00:00<?, ?it/s]"
      ]
     },
     "metadata": {},
     "output_type": "display_data"
    }
   ],
   "source": [
    "data = []\n",
    "for i in tqdm(range(1, 17)):\n",
    "    df = pd.read_csv(PATH + f\"circulaton_{i}.csv\", encoding=\"cp1251\", sep=\";\")\n",
    "    df = df[[\"catalogueRecordID\", \"readerID\", \"state\", \"startDate\", \"finishDate\"]]\n",
    "    df[\"startDate\"] = df[\"startDate\"].apply(lambda x: \"-\".join(reversed(x.split(\".\"))))\n",
    "    df[\"finishDate\"] = df[\"finishDate\"].apply(lambda x: \"-\".join(reversed(x.split(\".\"))))\n",
    "    df[\"state\"] = df[\"state\"].apply(lambda x: states[x])\n",
    "    df = df[df[\"state\"] > 1]\n",
    "    data.append(df)"
   ]
  },
  {
   "cell_type": "code",
   "execution_count": 22,
   "metadata": {},
   "outputs": [],
   "source": [
    "df = pd.concat(data)"
   ]
  },
  {
   "cell_type": "code",
   "execution_count": 23,
   "metadata": {},
   "outputs": [
    {
     "data": {
      "text/plain": [
       "(605486, 5)"
      ]
     },
     "execution_count": 23,
     "metadata": {},
     "output_type": "execute_result"
    }
   ],
   "source": [
    "df.shape"
   ]
  },
  {
   "cell_type": "code",
   "execution_count": 24,
   "metadata": {},
   "outputs": [],
   "source": [
    "df.sort_values(by=\"startDate\").to_sql(\"circulation_short\", con=db, index=False)"
   ]
  },
  {
   "cell_type": "code",
   "execution_count": 26,
   "metadata": {},
   "outputs": [
    {
     "data": {
      "text/plain": [
       "2    580305\n",
       "3     22472\n",
       "6      1679\n",
       "4       990\n",
       "5        40\n",
       "Name: state, dtype: int64"
      ]
     },
     "execution_count": 26,
     "metadata": {},
     "output_type": "execute_result"
    }
   ],
   "source": [
    "df.state.value_counts()"
   ]
  }
 ],
 "metadata": {
  "kernelspec": {
   "display_name": "Python 3",
   "language": "python",
   "name": "python3"
  },
  "language_info": {
   "codemirror_mode": {
    "name": "ipython",
    "version": 3
   },
   "file_extension": ".py",
   "mimetype": "text/x-python",
   "name": "python",
   "nbconvert_exporter": "python",
   "pygments_lexer": "ipython3",
   "version": "3.8.10"
  }
 },
 "nbformat": 4,
 "nbformat_minor": 4
}
