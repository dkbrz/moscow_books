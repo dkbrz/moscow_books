{
 "cells": [
  {
   "cell_type": "code",
   "execution_count": 1,
   "metadata": {},
   "outputs": [],
   "source": [
    "import sqlite3\n",
    "import pandas as pd\n",
    "import networkx as nx\n",
    "from collections import defaultdict\n",
    "from tqdm.auto import tqdm\n",
    "from itertools import combinations\n",
    "import math\n",
    "import matplotlib.pyplot as plt\n",
    "import numpy as np\n",
    "import json\n",
    "\n",
    "db = sqlite3.connect(\"datasets.db\")\n",
    "cur = db.cursor()\n",
    "\n",
    "db_out = sqlite3.connect(\"predictions.db\")\n",
    "cur_out = db_out.cursor()"
   ]
  },
  {
   "cell_type": "markdown",
   "metadata": {},
   "source": [
    "## compile history"
   ]
  },
  {
   "cell_type": "code",
   "execution_count": 2,
   "metadata": {},
   "outputs": [],
   "source": [
    "book_history = pd.read_sql_query(\"\"\"\n",
    "SELECT readerID, catalogueRecordID, author_id\n",
    "FROM circulation_short \n",
    "JOIN books ON books.id = circulation_short.catalogueRecordID\n",
    "WHERE author_id IS NOT NULL\n",
    "ORDER BY readerID ASC, startDate DESC\n",
    "\"\"\", con=db)\n",
    "book_history = book_history.groupby(\"readerID\").agg({\"catalogueRecordID\": list, \"author_id\": list})"
   ]
  },
  {
   "cell_type": "code",
   "execution_count": 3,
   "metadata": {},
   "outputs": [
    {
     "data": {
      "text/html": [
       "<div>\n",
       "<style scoped>\n",
       "    .dataframe tbody tr th:only-of-type {\n",
       "        vertical-align: middle;\n",
       "    }\n",
       "\n",
       "    .dataframe tbody tr th {\n",
       "        vertical-align: top;\n",
       "    }\n",
       "\n",
       "    .dataframe thead th {\n",
       "        text-align: right;\n",
       "    }\n",
       "</style>\n",
       "<table border=\"1\" class=\"dataframe\">\n",
       "  <thead>\n",
       "    <tr style=\"text-align: right;\">\n",
       "      <th></th>\n",
       "      <th>catalogueRecordID</th>\n",
       "      <th>author_id</th>\n",
       "    </tr>\n",
       "    <tr>\n",
       "      <th>readerID</th>\n",
       "      <th></th>\n",
       "      <th></th>\n",
       "    </tr>\n",
       "  </thead>\n",
       "  <tbody>\n",
       "    <tr>\n",
       "      <th>232</th>\n",
       "      <td>[1594580, 234836, 170268, 521679, 255761]</td>\n",
       "      <td>[95006, 113922, 85642, 96845, 57022]</td>\n",
       "    </tr>\n",
       "    <tr>\n",
       "      <th>233</th>\n",
       "      <td>[1306443, 33791, 356999, 15646]</td>\n",
       "      <td>[32370, 71580, 134200, 121969]</td>\n",
       "    </tr>\n",
       "    <tr>\n",
       "      <th>234</th>\n",
       "      <td>[32293, 2024117, 477533, 2117315, 2107758]</td>\n",
       "      <td>[17749, 171045, 43023, 194663, 157395]</td>\n",
       "    </tr>\n",
       "    <tr>\n",
       "      <th>235</th>\n",
       "      <td>[42447, 2000683, 1322907, 984881, 1593991, 200...</td>\n",
       "      <td>[48682, 131044, 137032, 141468, 131044, 131044]</td>\n",
       "    </tr>\n",
       "    <tr>\n",
       "      <th>236</th>\n",
       "      <td>[1334309, 1963836, 1719236]</td>\n",
       "      <td>[19983, 52171, 19561]</td>\n",
       "    </tr>\n",
       "  </tbody>\n",
       "</table>\n",
       "</div>"
      ],
      "text/plain": [
       "                                          catalogueRecordID  \\\n",
       "readerID                                                      \n",
       "232               [1594580, 234836, 170268, 521679, 255761]   \n",
       "233                         [1306443, 33791, 356999, 15646]   \n",
       "234              [32293, 2024117, 477533, 2117315, 2107758]   \n",
       "235       [42447, 2000683, 1322907, 984881, 1593991, 200...   \n",
       "236                             [1334309, 1963836, 1719236]   \n",
       "\n",
       "                                                author_id  \n",
       "readerID                                                   \n",
       "232                  [95006, 113922, 85642, 96845, 57022]  \n",
       "233                        [32370, 71580, 134200, 121969]  \n",
       "234                [17749, 171045, 43023, 194663, 157395]  \n",
       "235       [48682, 131044, 137032, 141468, 131044, 131044]  \n",
       "236                                 [19983, 52171, 19561]  "
      ]
     },
     "execution_count": 3,
     "metadata": {},
     "output_type": "execute_result"
    }
   ],
   "source": [
    "book_history.head()"
   ]
  },
  {
   "cell_type": "markdown",
   "metadata": {},
   "source": [
    "## model authors"
   ]
  },
  {
   "cell_type": "code",
   "execution_count": 4,
   "metadata": {},
   "outputs": [
    {
     "data": {
      "text/plain": [
       "(115674, 1)"
      ]
     },
     "execution_count": 4,
     "metadata": {},
     "output_type": "execute_result"
    }
   ],
   "source": [
    "authors_agg = book_history[[\"author_id\"]]\n",
    "authors_agg = authors_agg[authors_agg[\"author_id\"].apply(len) > 1]\n",
    "authors_agg.shape"
   ]
  },
  {
   "cell_type": "code",
   "execution_count": 5,
   "metadata": {},
   "outputs": [
    {
     "data": {
      "application/vnd.jupyter.widget-view+json": {
       "model_id": "90068571f79a43e4a86ca0310373dfff",
       "version_major": 2,
       "version_minor": 0
      },
      "text/plain": [
       "  0%|          | 0/115674 [00:00<?, ?it/s]"
      ]
     },
     "metadata": {},
     "output_type": "display_data"
    }
   ],
   "source": [
    "edges = defaultdict(int)\n",
    "\n",
    "for row in tqdm(authors_agg[\"author_id\"].values):\n",
    "    for o in combinations(set(row), 2): \n",
    "        edges[o] += 1\n",
    "    for e in row: \n",
    "        edges[(e, e)] += 1"
   ]
  },
  {
   "cell_type": "code",
   "execution_count": 6,
   "metadata": {},
   "outputs": [
    {
     "data": {
      "application/vnd.jupyter.widget-view+json": {
       "model_id": "dec83067d88a4c1b8f2155a1e7c7b8ce",
       "version_major": 2,
       "version_minor": 0
      },
      "text/plain": [
       "  0%|          | 0/651204 [00:00<?, ?it/s]"
      ]
     },
     "metadata": {},
     "output_type": "display_data"
    }
   ],
   "source": [
    "G = nx.Graph()\n",
    "\n",
    "for edge, cnt in tqdm(edges.items()):\n",
    "    G.add_edge(*edge, weight=edges[edge])"
   ]
  },
  {
   "cell_type": "code",
   "execution_count": 7,
   "metadata": {},
   "outputs": [],
   "source": [
    "from collections import Counter"
   ]
  },
  {
   "cell_type": "code",
   "execution_count": 8,
   "metadata": {},
   "outputs": [],
   "source": [
    "adfs = {}\n",
    "for aid in G.nodes():\n",
    "    adfs[int(aid)] = Counter({k: v[\"weight\"] for k, v in G[aid].items()})\n",
    "    \n",
    "is_adfs = set(adfs.keys())"
   ]
  },
  {
   "cell_type": "code",
   "execution_count": 9,
   "metadata": {},
   "outputs": [],
   "source": [
    "def get_for_one(authors, k=10):\n",
    "    total = Counter()\n",
    "    ctr = Counter(authors)\n",
    "    for author_id in authors:\n",
    "        if author_id in is_adfs:\n",
    "            total += adfs[author_id]\n",
    "    return [i[0] for i in total.most_common(k)]"
   ]
  },
  {
   "cell_type": "code",
   "execution_count": 10,
   "metadata": {},
   "outputs": [],
   "source": [
    "book_data = pd.read_sql_query(\"SELECT id, title, author_fullName FROM books\", con=db)\n",
    "book_data = {idx: {\"id\": idx, \"title\": title, \"author\": author} for idx, title, author in book_data.values}"
   ]
  },
  {
   "cell_type": "code",
   "execution_count": 11,
   "metadata": {},
   "outputs": [],
   "source": [
    "author_book = pd.read_sql_query(\"SELECT author_id, collapse_field, id, available as n FROM books WHERE author_id IS NOT NULL\", con=db)\n",
    "author_book = author_book.groupby([\"author_id\", \"collapse_field\"], as_index=False).agg({\"id\": list, \"n\": sum})\n",
    "author_book = author_book.sort_values(by=\"n\", ascending=False)\n",
    "\n",
    "author_book = author_book.groupby(\"author_id\").agg({\"id\": lambda x: list(set(i) for i in x)})"
   ]
  },
  {
   "cell_type": "code",
   "execution_count": 12,
   "metadata": {},
   "outputs": [],
   "source": [
    "# author_book.head()"
   ]
  },
  {
   "cell_type": "code",
   "execution_count": 13,
   "metadata": {},
   "outputs": [],
   "source": [
    "# readerid, a, b"
   ]
  },
  {
   "cell_type": "code",
   "execution_count": 14,
   "metadata": {},
   "outputs": [],
   "source": [
    "def api_view(readerid, hauthor, hbooks):\n",
    "    result = get_for_one(hauthor)        \n",
    "    history = [\n",
    "        book_data[idx] for idx in reversed(hbooks) if idx in book_data\n",
    "    ]\n",
    "    recommendations = []\n",
    "    if len(result) > 0:\n",
    "        bhist = set(hbooks)\n",
    "        for i in result:\n",
    "            for booklist in author_book.loc[i][\"id\"]:\n",
    "                if booklist & bhist:\n",
    "                    continue\n",
    "                else:\n",
    "                    recommendations.append(book_data[min(booklist)])\n",
    "                    break\n",
    "    if not recommendations:\n",
    "        recommendations = None\n",
    "    else:\n",
    "        recommendations = json.dumps(recommendations, ensure_ascii=False) #, indent=1\n",
    "    history = json.dumps(history, ensure_ascii=False)\n",
    "    return readerid, history, recommendations"
   ]
  },
  {
   "cell_type": "code",
   "execution_count": 15,
   "metadata": {},
   "outputs": [],
   "source": [
    "# %load_ext line_profiler"
   ]
  },
  {
   "cell_type": "code",
   "execution_count": 16,
   "metadata": {},
   "outputs": [],
   "source": [
    "# print(a)\n",
    "# %lprun -f api_view api_view(readerid, a, b)"
   ]
  },
  {
   "cell_type": "code",
   "execution_count": 27,
   "metadata": {},
   "outputs": [
    {
     "data": {
      "text/plain": [
       "(([301242], [119883]), 122415, [301242], [119883])"
      ]
     },
     "execution_count": 27,
     "metadata": {},
     "output_type": "execute_result"
    }
   ],
   "source": [
    "row, readerid, a, b"
   ]
  },
  {
   "cell_type": "code",
   "execution_count": 25,
   "metadata": {},
   "outputs": [
    {
     "data": {
      "text/plain": [
       "(122415, '[]', None)"
      ]
     },
     "execution_count": 25,
     "metadata": {},
     "output_type": "execute_result"
    }
   ],
   "source": [
    "api_view(readerid, a, b)"
   ]
  },
  {
   "cell_type": "code",
   "execution_count": 29,
   "metadata": {},
   "outputs": [
    {
     "data": {
      "application/vnd.jupyter.widget-view+json": {
       "model_id": "b11c4e27b5d54423a2b291311887ea50",
       "version_major": 2,
       "version_minor": 0
      },
      "text/plain": [
       "  0%|          | 0/173138 [00:00<?, ?it/s]"
      ]
     },
     "metadata": {},
     "output_type": "display_data"
    }
   ],
   "source": [
    "cur_out.execute(\"DROP TABLE IF EXISTS recommendations\")\n",
    "cur_out.execute(\"CREATE TABLE recommendations (id INTEGERE PRIMARY KEY, history TEXT, recommendations TEXT)\")\n",
    "db_out.commit()\n",
    "\n",
    "data = []\n",
    "k = 1\n",
    "for readerid, row in tqdm({i: (k, j) for i, k, j in book_history.reset_index().values}.items()):\n",
    "    b, a = row\n",
    "    readerid, history, recommendations = api_view(readerid, a, b)\n",
    "    data.append((readerid, history, recommendations,))\n",
    "    if k % 1000 == 0:\n",
    "        cur_out.executemany(\"INSERT INTO recommendations VALUES (?, ?, ?)\", data)\n",
    "        db_out.commit()\n",
    "        data = []\n",
    "    k += 1\n",
    "cur_out.executemany(\"INSERT INTO recommendations VALUES (?, ?, ?)\", data)\n",
    "db_out.commit()"
   ]
  },
  {
   "cell_type": "code",
   "execution_count": null,
   "metadata": {},
   "outputs": [],
   "source": [
    "67000 % 1000"
   ]
  }
 ],
 "metadata": {
  "kernelspec": {
   "display_name": "Python 3",
   "language": "python",
   "name": "python3"
  },
  "language_info": {
   "codemirror_mode": {
    "name": "ipython",
    "version": 3
   },
   "file_extension": ".py",
   "mimetype": "text/x-python",
   "name": "python",
   "nbconvert_exporter": "python",
   "pygments_lexer": "ipython3",
   "version": "3.8.10"
  }
 },
 "nbformat": 4,
 "nbformat_minor": 4
}
