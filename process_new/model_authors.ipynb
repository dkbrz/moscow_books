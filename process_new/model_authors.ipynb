{
 "cells": [
  {
   "cell_type": "code",
   "execution_count": 1,
   "metadata": {},
   "outputs": [
    {
     "data": {
      "text/plain": [
       "datetime.datetime(2021, 11, 5, 22, 39, 21, 818790)"
      ]
     },
     "execution_count": 1,
     "metadata": {},
     "output_type": "execute_result"
    }
   ],
   "source": [
    "import datetime\n",
    "\n",
    "start = datetime.datetime.now()\n",
    "start"
   ]
  },
  {
   "cell_type": "code",
   "execution_count": 2,
   "metadata": {},
   "outputs": [],
   "source": [
    "import sqlite3\n",
    "import pandas as pd\n",
    "import networkx as nx\n",
    "from collections import defaultdict\n",
    "from tqdm.auto import tqdm\n",
    "import math\n",
    "from itertools import combinations\n",
    "import pickle\n",
    "\n",
    "db = sqlite3.connect(\"datasets.db\")\n",
    "cur = db.cursor()"
   ]
  },
  {
   "cell_type": "code",
   "execution_count": 3,
   "metadata": {},
   "outputs": [
    {
     "data": {
      "text/plain": [
       "(304096, 3)"
      ]
     },
     "execution_count": 3,
     "metadata": {},
     "output_type": "execute_result"
    }
   ],
   "source": [
    "book_history = pd.read_sql_query(\"\"\"\n",
    "SELECT \n",
    "    circulation_short.readerID, \n",
    "    group_concat(books.rubric1) as rubrics, \n",
    "    group_concat(books.author_id) as authors\n",
    "FROM circulation_short\n",
    "JOIN books ON circulation_short.smart = books.smart_collapse_field\n",
    "WHERE rubric1 IS NOT NULL AND author_id IS NOT NULL\n",
    "GROUP BY readerID\n",
    "HAVING count(smart) > 1\n",
    "\"\"\", con=db)\n",
    "book_history.shape"
   ]
  },
  {
   "cell_type": "code",
   "execution_count": 4,
   "metadata": {},
   "outputs": [],
   "source": [
    "book_history[\"rubrics\"] = book_history[\"rubrics\"].apply(lambda x: [int(i) for i in x.split(\",\")])\n",
    "book_history[\"authors\"] = book_history[\"authors\"].apply(lambda x: [int(i) for i in x.split(\",\")])"
   ]
  },
  {
   "cell_type": "code",
   "execution_count": 5,
   "metadata": {},
   "outputs": [
    {
     "data": {
      "text/html": [
       "<div>\n",
       "<style scoped>\n",
       "    .dataframe tbody tr th:only-of-type {\n",
       "        vertical-align: middle;\n",
       "    }\n",
       "\n",
       "    .dataframe tbody tr th {\n",
       "        vertical-align: top;\n",
       "    }\n",
       "\n",
       "    .dataframe thead th {\n",
       "        text-align: right;\n",
       "    }\n",
       "</style>\n",
       "<table border=\"1\" class=\"dataframe\">\n",
       "  <thead>\n",
       "    <tr style=\"text-align: right;\">\n",
       "      <th></th>\n",
       "      <th>readerID</th>\n",
       "      <th>rubrics</th>\n",
       "      <th>authors</th>\n",
       "    </tr>\n",
       "  </thead>\n",
       "  <tbody>\n",
       "    <tr>\n",
       "      <th>0</th>\n",
       "      <td>163</td>\n",
       "      <td>[252, 479]</td>\n",
       "      <td>[91143, 130512]</td>\n",
       "    </tr>\n",
       "    <tr>\n",
       "      <th>1</th>\n",
       "      <td>170</td>\n",
       "      <td>[610, 610]</td>\n",
       "      <td>[121213, 27741]</td>\n",
       "    </tr>\n",
       "    <tr>\n",
       "      <th>2</th>\n",
       "      <td>171</td>\n",
       "      <td>[479, 479, 479, 479, 479, 479, 479, 479, 479, 18]</td>\n",
       "      <td>[47875, 132224, 134206, 104699, 94970, 141471,...</td>\n",
       "    </tr>\n",
       "  </tbody>\n",
       "</table>\n",
       "</div>"
      ],
      "text/plain": [
       "   readerID                                            rubrics  \\\n",
       "0       163                                         [252, 479]   \n",
       "1       170                                         [610, 610]   \n",
       "2       171  [479, 479, 479, 479, 479, 479, 479, 479, 479, 18]   \n",
       "\n",
       "                                             authors  \n",
       "0                                    [91143, 130512]  \n",
       "1                                    [121213, 27741]  \n",
       "2  [47875, 132224, 134206, 104699, 94970, 141471,...  "
      ]
     },
     "execution_count": 5,
     "metadata": {},
     "output_type": "execute_result"
    }
   ],
   "source": [
    "book_history.head(3)"
   ]
  },
  {
   "cell_type": "code",
   "execution_count": 6,
   "metadata": {},
   "outputs": [
    {
     "data": {
      "application/vnd.jupyter.widget-view+json": {
       "model_id": "f0e98e96f1ac4367a2ee15c1ad387e78",
       "version_major": 2,
       "version_minor": 0
      },
      "text/plain": [
       "  0%|          | 0/304096 [00:00<?, ?it/s]"
      ]
     },
     "metadata": {},
     "output_type": "display_data"
    }
   ],
   "source": [
    "edges = defaultdict(lambda: defaultdict(int))\n",
    "count_rubric = defaultdict(lambda: defaultdict(int))\n",
    "count_name = defaultdict(int)\n",
    "\n",
    "for row in tqdm(book_history.values):\n",
    "    row_dict = defaultdict(list)\n",
    "    \n",
    "    for r, a in zip(row[1], row[2]):\n",
    "        row_dict[r].append(a)\n",
    "        count_rubric[a][r] += 1\n",
    "        count_name[a] += 1\n",
    "    \n",
    "    for r in row_dict:\n",
    "        for o in combinations(row_dict[r], 2):\n",
    "            edges[o][r] += 1"
   ]
  },
  {
   "cell_type": "code",
   "execution_count": 7,
   "metadata": {},
   "outputs": [],
   "source": [
    "del book_history"
   ]
  },
  {
   "cell_type": "code",
   "execution_count": 8,
   "metadata": {},
   "outputs": [
    {
     "data": {
      "application/vnd.jupyter.widget-view+json": {
       "model_id": "e7d632e1a3ee44c38a89358d45b8f0ed",
       "version_major": 2,
       "version_minor": 0
      },
      "text/plain": [
       "  0%|          | 0/9086950 [00:00<?, ?it/s]"
      ]
     },
     "metadata": {},
     "output_type": "display_data"
    }
   ],
   "source": [
    "edges2 = defaultdict(lambda: defaultdict(int))\n",
    "pairs = defaultdict(lambda: defaultdict(lambda: defaultdict(int)))\n",
    "\n",
    "for pair, links in tqdm(edges.items()):\n",
    "    if sum(links.values()) >= 3:\n",
    "        for rubric, val in links.items():\n",
    "            if val > 1:\n",
    "                coef = 14 - math.log(val / (count_rubric[pair[0]][rubric] + count_rubric[pair[1]][rubric]))\n",
    "                edges2[rubric][pair] = coef\n",
    "                pairs[rubric][pair[0]][pair[1]] = coef\n",
    "                pairs[rubric][pair[1]][pair[0]] = coef\n",
    "\n",
    "pairs2 = defaultdict(lambda: defaultdict(set))\n",
    "for r in pairs:\n",
    "    for i in pairs[r]:\n",
    "        pairs2[r][i] = set([i for i in sorted(pairs[r][i], key=pairs[r][i].get)][:10])"
   ]
  },
  {
   "cell_type": "code",
   "execution_count": 9,
   "metadata": {},
   "outputs": [
    {
     "data": {
      "application/vnd.jupyter.widget-view+json": {
       "model_id": "286a5278e7384e06938a508b401e8580",
       "version_major": 2,
       "version_minor": 0
      },
      "text/plain": [
       "  0%|          | 0/9086950 [00:00<?, ?it/s]"
      ]
     },
     "metadata": {},
     "output_type": "display_data"
    }
   ],
   "source": [
    "graphs = defaultdict(lambda: nx.Graph())\n",
    "\n",
    "for pair, links in tqdm(edges.items()):\n",
    "    if sum(links.values()) >= 3:\n",
    "        for rubric, val in links.items():\n",
    "            if val > 1:\n",
    "                if pair[0] in pairs2[rubric][pair[1]] or pair[1] in pairs2[rubric][pair[0]]:\n",
    "                    graphs[rubric].add_edge(*pair, weight=edges2[rubric][pair])"
   ]
  },
  {
   "cell_type": "code",
   "execution_count": 10,
   "metadata": {},
   "outputs": [
    {
     "data": {
      "text/plain": [
       "defaultdict(int, {479: 2808, 534: 470, 218: 97, 541: 49})"
      ]
     },
     "execution_count": 10,
     "metadata": {},
     "output_type": "execute_result"
    }
   ],
   "source": [
    "count_rubric.get(23203)"
   ]
  },
  {
   "cell_type": "code",
   "execution_count": 11,
   "metadata": {},
   "outputs": [
    {
     "data": {
      "text/plain": [
       "[(23203, {'weight': 17.64294235892691}),\n",
       " (45648, {'weight': 17.818819132932095}),\n",
       " (15583, {'weight': 18.159705113821087}),\n",
       " (64459, {'weight': 18.201963395525198}),\n",
       " (113922, {'weight': 18.251233193179736}),\n",
       " (130211, {'weight': 18.337442728065856}),\n",
       " (50649, {'weight': 18.351801701525492}),\n",
       " (134228, {'weight': 18.37260741275739}),\n",
       " (85642, {'weight': 18.426895225190133}),\n",
       " (134391, {'weight': 18.467735079883095}),\n",
       " (120840, {'weight': 18.516807246698836}),\n",
       " (96072, {'weight': 20.150247339261803}),\n",
       " (143271, {'weight': 20.156978985585553}),\n",
       " (133968, {'weight': 20.55677835615804}),\n",
       " (35601, {'weight': 20.557488331338735}),\n",
       " (147728, {'weight': 20.56526497003536}),\n",
       " (14821, {'weight': 20.841971538436134}),\n",
       " (97614, {'weight': 20.842683282238422}),\n",
       " (31037, {'weight': 20.842683282238422}),\n",
       " (105366, {'weight': 20.843038964262448})]"
      ]
     },
     "execution_count": 11,
     "metadata": {},
     "output_type": "execute_result"
    }
   ],
   "source": [
    "view = graphs[479][23203]\n",
    "sorted(view.items(), key=lambda x: x[1][\"weight\"])[:20]"
   ]
  },
  {
   "cell_type": "code",
   "execution_count": 12,
   "metadata": {},
   "outputs": [],
   "source": [
    "with open(\"author_graphs.pkl\", \"wb\") as f:\n",
    "    pickle.dump(dict(graphs), f)"
   ]
  },
  {
   "cell_type": "code",
   "execution_count": 13,
   "metadata": {},
   "outputs": [
    {
     "name": "stdout",
     "output_type": "stream",
     "text": [
      "2021-11-05 22:40:24.491768\n",
      "0:01:02.673399\n"
     ]
    }
   ],
   "source": [
    "print(datetime.datetime.now())\n",
    "print(datetime.datetime.now() - start)"
   ]
  }
 ],
 "metadata": {
  "kernelspec": {
   "display_name": "Python 3",
   "language": "python",
   "name": "python3"
  },
  "language_info": {
   "codemirror_mode": {
    "name": "ipython",
    "version": 3
   },
   "file_extension": ".py",
   "mimetype": "text/x-python",
   "name": "python",
   "nbconvert_exporter": "python",
   "pygments_lexer": "ipython3",
   "version": "3.8.10"
  }
 },
 "nbformat": 4,
 "nbformat_minor": 4
}
