{
 "cells": [
  {
   "cell_type": "code",
   "execution_count": 1,
   "metadata": {},
   "outputs": [
    {
     "data": {
      "text/plain": [
       "datetime.datetime(2021, 11, 6, 9, 19, 15, 884022)"
      ]
     },
     "execution_count": 1,
     "metadata": {},
     "output_type": "execute_result"
    }
   ],
   "source": [
    "import datetime\n",
    "\n",
    "start = datetime.datetime.now()\n",
    "start"
   ]
  },
  {
   "cell_type": "code",
   "execution_count": 2,
   "metadata": {},
   "outputs": [],
   "source": [
    "import sqlite3\n",
    "import pandas as pd\n",
    "import networkx as nx\n",
    "from collections import defaultdict\n",
    "from tqdm.auto import tqdm\n",
    "import math\n",
    "from itertools import combinations\n",
    "import pickle\n",
    "\n",
    "db = sqlite3.connect(\"datasets.db\")\n",
    "cur = db.cursor()"
   ]
  },
  {
   "cell_type": "code",
   "execution_count": 3,
   "metadata": {},
   "outputs": [
    {
     "data": {
      "text/plain": [
       "(304096, 3)"
      ]
     },
     "execution_count": 3,
     "metadata": {},
     "output_type": "execute_result"
    }
   ],
   "source": [
    "book_history = pd.read_sql_query(\"\"\"\n",
    "SELECT \n",
    "    circulation_short.readerID, \n",
    "    group_concat(books.rubric1) as rubrics, \n",
    "    group_concat(books.author_id) as authors\n",
    "FROM circulation_short\n",
    "JOIN books ON circulation_short.smart = books.smart_collapse_field\n",
    "WHERE rubric1 IS NOT NULL AND author_id IS NOT NULL\n",
    "GROUP BY readerID\n",
    "HAVING count(smart) > 1\n",
    "\"\"\", con=db)\n",
    "book_history.shape"
   ]
  },
  {
   "cell_type": "code",
   "execution_count": 4,
   "metadata": {},
   "outputs": [],
   "source": [
    "book_history[\"rubrics\"] = book_history[\"rubrics\"].apply(lambda x: [int(i) for i in x.split(\",\")])\n",
    "book_history[\"authors\"] = book_history[\"authors\"].apply(lambda x: [int(i) for i in x.split(\",\")])"
   ]
  },
  {
   "cell_type": "code",
   "execution_count": 5,
   "metadata": {},
   "outputs": [
    {
     "data": {
      "text/html": [
       "<div>\n",
       "<style scoped>\n",
       "    .dataframe tbody tr th:only-of-type {\n",
       "        vertical-align: middle;\n",
       "    }\n",
       "\n",
       "    .dataframe tbody tr th {\n",
       "        vertical-align: top;\n",
       "    }\n",
       "\n",
       "    .dataframe thead th {\n",
       "        text-align: right;\n",
       "    }\n",
       "</style>\n",
       "<table border=\"1\" class=\"dataframe\">\n",
       "  <thead>\n",
       "    <tr style=\"text-align: right;\">\n",
       "      <th></th>\n",
       "      <th>readerID</th>\n",
       "      <th>rubrics</th>\n",
       "      <th>authors</th>\n",
       "    </tr>\n",
       "  </thead>\n",
       "  <tbody>\n",
       "    <tr>\n",
       "      <th>0</th>\n",
       "      <td>163</td>\n",
       "      <td>[252, 479]</td>\n",
       "      <td>[91143, 130512]</td>\n",
       "    </tr>\n",
       "    <tr>\n",
       "      <th>1</th>\n",
       "      <td>170</td>\n",
       "      <td>[610, 610]</td>\n",
       "      <td>[121213, 27741]</td>\n",
       "    </tr>\n",
       "    <tr>\n",
       "      <th>2</th>\n",
       "      <td>171</td>\n",
       "      <td>[479, 479, 479, 479, 479, 479, 479, 479, 479, 18]</td>\n",
       "      <td>[47875, 132224, 134206, 104699, 94970, 141471,...</td>\n",
       "    </tr>\n",
       "  </tbody>\n",
       "</table>\n",
       "</div>"
      ],
      "text/plain": [
       "   readerID                                            rubrics  \\\n",
       "0       163                                         [252, 479]   \n",
       "1       170                                         [610, 610]   \n",
       "2       171  [479, 479, 479, 479, 479, 479, 479, 479, 479, 18]   \n",
       "\n",
       "                                             authors  \n",
       "0                                    [91143, 130512]  \n",
       "1                                    [121213, 27741]  \n",
       "2  [47875, 132224, 134206, 104699, 94970, 141471,...  "
      ]
     },
     "execution_count": 5,
     "metadata": {},
     "output_type": "execute_result"
    }
   ],
   "source": [
    "book_history.head(3)"
   ]
  },
  {
   "cell_type": "code",
   "execution_count": 6,
   "metadata": {},
   "outputs": [
    {
     "data": {
      "application/vnd.jupyter.widget-view+json": {
       "model_id": "51572b7e65144a298b54359abd7a94ff",
       "version_major": 2,
       "version_minor": 0
      },
      "text/plain": [
       "  0%|          | 0/304096 [00:00<?, ?it/s]"
      ]
     },
     "metadata": {},
     "output_type": "display_data"
    }
   ],
   "source": [
    "edges = defaultdict(lambda: defaultdict(int))\n",
    "count_rubric = defaultdict(lambda: defaultdict(int))\n",
    "count_name = defaultdict(int)\n",
    "\n",
    "for row in tqdm(book_history.values):\n",
    "    row_dict = defaultdict(list)\n",
    "    \n",
    "    for r, a in zip(row[1], row[2]):\n",
    "        row_dict[r].append(a)\n",
    "        count_rubric[a][r] += 1\n",
    "        count_name[a] += 1\n",
    "    \n",
    "    for r in row_dict:\n",
    "        for o in combinations(row_dict[r], 2):\n",
    "            edges[o][r] += 1"
   ]
  },
  {
   "cell_type": "code",
   "execution_count": 7,
   "metadata": {},
   "outputs": [],
   "source": [
    "del book_history"
   ]
  },
  {
   "cell_type": "code",
   "execution_count": 8,
   "metadata": {},
   "outputs": [
    {
     "data": {
      "application/vnd.jupyter.widget-view+json": {
       "model_id": "1b05b00fd1a7447eb197660539c55fb0",
       "version_major": 2,
       "version_minor": 0
      },
      "text/plain": [
       "  0%|          | 0/9086950 [00:00<?, ?it/s]"
      ]
     },
     "metadata": {},
     "output_type": "display_data"
    }
   ],
   "source": [
    "edges2 = defaultdict(lambda: defaultdict(int))\n",
    "pairs = defaultdict(lambda: defaultdict(lambda: defaultdict(int)))\n",
    "\n",
    "for pair, links in tqdm(edges.items()):\n",
    "    if sum(links.values()) >= 3:\n",
    "        for rubric, val in links.items():\n",
    "            if val > 1:\n",
    "                coef = 14 - math.log(val / (count_rubric[pair[0]][rubric] + count_rubric[pair[1]][rubric]))\n",
    "                edges2[rubric][pair] = coef\n",
    "                pairs[rubric][pair[0]][pair[1]] = coef\n",
    "                pairs[rubric][pair[1]][pair[0]] = coef\n",
    "\n",
    "pairs2 = defaultdict(lambda: defaultdict(set))\n",
    "for r in pairs:\n",
    "    for i in pairs[r]:\n",
    "        pairs2[r][i] = set([j for j in sorted(pairs[r][i], key=pairs[r][i].get)][:10])"
   ]
  },
  {
   "cell_type": "code",
   "execution_count": 9,
   "metadata": {},
   "outputs": [
    {
     "data": {
      "application/vnd.jupyter.widget-view+json": {
       "model_id": "cdd5b2c08d1841d38901282a33d31d06",
       "version_major": 2,
       "version_minor": 0
      },
      "text/plain": [
       "  0%|          | 0/9086950 [00:00<?, ?it/s]"
      ]
     },
     "metadata": {},
     "output_type": "display_data"
    }
   ],
   "source": [
    "graphs = defaultdict(lambda: nx.Graph())\n",
    "\n",
    "for pair, links in tqdm(edges.items()):\n",
    "    if sum(links.values()) >= 3:\n",
    "        for rubric, val in links.items():\n",
    "            if val > 1:\n",
    "                if pair[0] in pairs2[rubric][pair[1]] or pair[1] in pairs2[rubric][pair[0]]:\n",
    "                    graphs[rubric].add_edge(*pair, weight=edges2[rubric][pair])"
   ]
  },
  {
   "cell_type": "code",
   "execution_count": 10,
   "metadata": {},
   "outputs": [
    {
     "data": {
      "text/plain": [
       "defaultdict(int, {479: 6448, 620: 20, 502: 129, 610: 17})"
      ]
     },
     "execution_count": 10,
     "metadata": {},
     "output_type": "execute_result"
    }
   ],
   "source": [
    "count_rubric.get(65222)"
   ]
  },
  {
   "cell_type": "code",
   "execution_count": 11,
   "metadata": {},
   "outputs": [
    {
     "data": {
      "text/plain": [
       "[(65222, {'weight': 14.422040937196336}),\n",
       " (106742, {'weight': 16.426078604693792}),\n",
       " (120995, {'weight': 16.761016562111624}),\n",
       " (34746, {'weight': 16.854779145808678}),\n",
       " (103220, {'weight': 16.978629240966043}),\n",
       " (102697, {'weight': 17.088774463945573}),\n",
       " (12626, {'weight': 17.185209198259415}),\n",
       " (96680, {'weight': 17.19225370819672}),\n",
       " (14473, {'weight': 17.30003855285803}),\n",
       " (45358, {'weight': 17.364906192325623}),\n",
       " (44964, {'weight': 17.630038954091003}),\n",
       " (121918, {'weight': 17.872425750803785}),\n",
       " (28683, {'weight': 18.008669190775212}),\n",
       " (107677, {'weight': 18.26876461381142}),\n",
       " (130209, {'weight': 19.881928660039677}),\n",
       " (151467, {'weight': 19.939396959224528}),\n",
       " (147986, {'weight': 20.00002158104096}),\n",
       " (64581, {'weight': 20.00002158104096}),\n",
       " (148246, {'weight': 20.063630157908168}),\n",
       " (26602, {'weight': 20.13262302939512})]"
      ]
     },
     "execution_count": 11,
     "metadata": {},
     "output_type": "execute_result"
    }
   ],
   "source": [
    "view = graphs[479][65222]\n",
    "sorted(view.items(), key=lambda x: x[1][\"weight\"])[:20]"
   ]
  },
  {
   "cell_type": "code",
   "execution_count": 12,
   "metadata": {},
   "outputs": [],
   "source": [
    "with open(\"author_graphs.pkl\", \"wb\") as f:\n",
    "    pickle.dump(dict(graphs), f)"
   ]
  },
  {
   "cell_type": "code",
   "execution_count": 13,
   "metadata": {},
   "outputs": [
    {
     "name": "stdout",
     "output_type": "stream",
     "text": [
      "2021-11-06 09:20:16.059121\n",
      "0:01:00.175216\n"
     ]
    }
   ],
   "source": [
    "print(datetime.datetime.now())\n",
    "print(datetime.datetime.now() - start)"
   ]
  }
 ],
 "metadata": {
  "kernelspec": {
   "display_name": "Python 3",
   "language": "python",
   "name": "python3"
  },
  "language_info": {
   "codemirror_mode": {
    "name": "ipython",
    "version": 3
   },
   "file_extension": ".py",
   "mimetype": "text/x-python",
   "name": "python",
   "nbconvert_exporter": "python",
   "pygments_lexer": "ipython3",
   "version": "3.8.10"
  }
 },
 "nbformat": 4,
 "nbformat_minor": 4
}
