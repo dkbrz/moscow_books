{
 "cells": [
  {
   "cell_type": "code",
   "execution_count": 1,
   "metadata": {},
   "outputs": [
    {
     "data": {
      "text/plain": [
       "datetime.datetime(2021, 11, 6, 9, 15, 19, 466695)"
      ]
     },
     "execution_count": 1,
     "metadata": {},
     "output_type": "execute_result"
    }
   ],
   "source": [
    "import datetime\n",
    "\n",
    "start = datetime.datetime.now()\n",
    "start"
   ]
  },
  {
   "cell_type": "code",
   "execution_count": 2,
   "metadata": {},
   "outputs": [],
   "source": [
    "import sqlite3\n",
    "import pandas as pd\n",
    "from collections import defaultdict\n",
    "from tqdm.auto import tqdm\n",
    "\n",
    "db = sqlite3.connect(\"datasets.db\")\n",
    "cur = db.cursor()"
   ]
  },
  {
   "cell_type": "code",
   "execution_count": 3,
   "metadata": {},
   "outputs": [],
   "source": [
    "book_info = pd.read_sql_query(\"\"\"\n",
    "SELECT circulation_short.readerID, circulation_short.startDate, circulation_short.smart, books.author_id, books.title\n",
    "FROM circulation_short\n",
    "JOIN books ON circulation_short.smart = books.smart_collapse_field\n",
    "WHERE author_id IS NOT NULL\n",
    "ORDER BY circulation_short.readerID, books.author_id, circulation_short.startDate ASC\n",
    "\"\"\", con=db\n",
    ")"
   ]
  },
  {
   "cell_type": "code",
   "execution_count": 4,
   "metadata": {},
   "outputs": [],
   "source": [
    "author_series = book_info.sort_values(by=[\"readerID\", \"author_id\", \"startDate\", \"title\"]).groupby([\"readerID\", \"author_id\"], as_index=False).agg({\"smart\": list})\n",
    "author_series = author_series[author_series[\"smart\"].apply(len) > 1]"
   ]
  },
  {
   "cell_type": "code",
   "execution_count": 5,
   "metadata": {},
   "outputs": [
    {
     "data": {
      "text/html": [
       "<div>\n",
       "<style scoped>\n",
       "    .dataframe tbody tr th:only-of-type {\n",
       "        vertical-align: middle;\n",
       "    }\n",
       "\n",
       "    .dataframe tbody tr th {\n",
       "        vertical-align: top;\n",
       "    }\n",
       "\n",
       "    .dataframe thead th {\n",
       "        text-align: right;\n",
       "    }\n",
       "</style>\n",
       "<table border=\"1\" class=\"dataframe\">\n",
       "  <thead>\n",
       "    <tr style=\"text-align: right;\">\n",
       "      <th></th>\n",
       "      <th>readerID</th>\n",
       "      <th>author_id</th>\n",
       "      <th>smart</th>\n",
       "    </tr>\n",
       "  </thead>\n",
       "  <tbody>\n",
       "    <tr>\n",
       "      <th>43</th>\n",
       "      <td>186</td>\n",
       "      <td>14599</td>\n",
       "      <td>[876142, 877385]</td>\n",
       "    </tr>\n",
       "    <tr>\n",
       "      <th>46</th>\n",
       "      <td>187</td>\n",
       "      <td>70570</td>\n",
       "      <td>[814783, 824321]</td>\n",
       "    </tr>\n",
       "    <tr>\n",
       "      <th>48</th>\n",
       "      <td>188</td>\n",
       "      <td>33144</td>\n",
       "      <td>[1236341, 405584]</td>\n",
       "    </tr>\n",
       "    <tr>\n",
       "      <th>71</th>\n",
       "      <td>204</td>\n",
       "      <td>67552</td>\n",
       "      <td>[21089, 1260896]</td>\n",
       "    </tr>\n",
       "    <tr>\n",
       "      <th>82</th>\n",
       "      <td>207</td>\n",
       "      <td>71203</td>\n",
       "      <td>[442626, 467840, 365819]</td>\n",
       "    </tr>\n",
       "  </tbody>\n",
       "</table>\n",
       "</div>"
      ],
      "text/plain": [
       "    readerID  author_id                     smart\n",
       "43       186      14599          [876142, 877385]\n",
       "46       187      70570          [814783, 824321]\n",
       "48       188      33144         [1236341, 405584]\n",
       "71       204      67552          [21089, 1260896]\n",
       "82       207      71203  [442626, 467840, 365819]"
      ]
     },
     "execution_count": 5,
     "metadata": {},
     "output_type": "execute_result"
    }
   ],
   "source": [
    "author_series.head()"
   ]
  },
  {
   "cell_type": "code",
   "execution_count": 6,
   "metadata": {},
   "outputs": [
    {
     "data": {
      "application/vnd.jupyter.widget-view+json": {
       "model_id": "06a16396c81b42fdb754c8757a9824bb",
       "version_major": 2,
       "version_minor": 0
      },
      "text/plain": [
       "  0%|          | 0/245347 [00:00<?, ?it/s]"
      ]
     },
     "metadata": {},
     "output_type": "display_data"
    }
   ],
   "source": [
    "edges = defaultdict(int)\n",
    "\n",
    "for row in tqdm(author_series[\"smart\"].values):\n",
    "    for f, s in zip(row[:-1], row[1:]):\n",
    "        edges[(f, s)] += 1\n",
    "        \n",
    "edges = {key: value for key, value in sorted(edges.items(), key=lambda x: x[1], reverse=True) if value >= 5}"
   ]
  },
  {
   "cell_type": "code",
   "execution_count": 7,
   "metadata": {},
   "outputs": [],
   "source": [
    "data = [(key[0], key[1], value) for key, value in edges.items()]"
   ]
  },
  {
   "cell_type": "code",
   "execution_count": 8,
   "metadata": {},
   "outputs": [],
   "source": [
    "data = pd.DataFrame(data, columns=[\"collapse_in\", \"collapse_out\", \"cnt\"])\n",
    "data = data.drop_duplicates(subset=[\"collapse_in\"])\n",
    "data.to_sql(\"prediction_author_sequence\", index=False, con=db, if_exists=\"replace\")"
   ]
  },
  {
   "cell_type": "code",
   "execution_count": 9,
   "metadata": {},
   "outputs": [],
   "source": [
    "book_info = pd.read_sql_query(\"\"\"\n",
    "SELECT circulation_short.readerID, circulation_short.startDate, circulation_short.smart, books.rubric1, books.title\n",
    "FROM circulation_short\n",
    "JOIN books ON circulation_short.smart = books.smart_collapse_field\n",
    "WHERE author_id IS NULL\n",
    "ORDER BY circulation_short.readerID, books.rubric1, circulation_short.startDate ASC\n",
    "\"\"\", con=db\n",
    ")"
   ]
  },
  {
   "cell_type": "code",
   "execution_count": 10,
   "metadata": {},
   "outputs": [],
   "source": [
    "series = book_info.sort_values(by=[\"readerID\", \"rubric1\", \"startDate\", \"title\"]).groupby([\"readerID\", \"rubric1\"], as_index=False).agg({\"smart\": list})\n",
    "series = series[series[\"smart\"].apply(len) > 1]"
   ]
  },
  {
   "cell_type": "code",
   "execution_count": 11,
   "metadata": {},
   "outputs": [
    {
     "data": {
      "application/vnd.jupyter.widget-view+json": {
       "model_id": "ea01f1d75d284682a7f43d5c5ed11383",
       "version_major": 2,
       "version_minor": 0
      },
      "text/plain": [
       "  0%|          | 0/409551 [00:00<?, ?it/s]"
      ]
     },
     "metadata": {},
     "output_type": "display_data"
    }
   ],
   "source": [
    "edges = defaultdict(int)\n",
    "\n",
    "for row in tqdm(series[\"smart\"].values):\n",
    "    for f, s in zip(row[:-1], row[1:]):\n",
    "        edges[(f, s)] += 1\n",
    "        \n",
    "edges = {key: value for key, value in sorted(edges.items(), key=lambda x: x[1], reverse=True) if value >= 10}"
   ]
  },
  {
   "cell_type": "code",
   "execution_count": 12,
   "metadata": {},
   "outputs": [],
   "source": [
    "data = [(key[0], key[1], value) for key, value in edges.items()]"
   ]
  },
  {
   "cell_type": "code",
   "execution_count": 13,
   "metadata": {},
   "outputs": [],
   "source": [
    "data = pd.DataFrame(data, columns=[\"collapse_in\", \"collapse_out\", \"cnt\"])\n",
    "data = data.drop_duplicates(subset=[\"collapse_in\"])"
   ]
  },
  {
   "cell_type": "code",
   "execution_count": 14,
   "metadata": {},
   "outputs": [],
   "source": [
    "data.to_sql(\"prediction_nouthor_sequence\", index=False, con=db, if_exists=\"replace\")"
   ]
  },
  {
   "cell_type": "code",
   "execution_count": 15,
   "metadata": {},
   "outputs": [
    {
     "name": "stdout",
     "output_type": "stream",
     "text": [
      "2021-11-06 09:16:23.514802\n",
      "0:01:04.048197\n"
     ]
    }
   ],
   "source": [
    "print(datetime.datetime.now())\n",
    "print(datetime.datetime.now() - start)"
   ]
  }
 ],
 "metadata": {
  "kernelspec": {
   "display_name": "Python 3",
   "language": "python",
   "name": "python3"
  },
  "language_info": {
   "codemirror_mode": {
    "name": "ipython",
    "version": 3
   },
   "file_extension": ".py",
   "mimetype": "text/x-python",
   "name": "python",
   "nbconvert_exporter": "python",
   "pygments_lexer": "ipython3",
   "version": "3.8.10"
  }
 },
 "nbformat": 4,
 "nbformat_minor": 4
}
