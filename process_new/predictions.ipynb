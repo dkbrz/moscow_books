{
 "cells": [
  {
   "cell_type": "code",
   "execution_count": 1,
   "metadata": {},
   "outputs": [
    {
     "data": {
      "text/plain": [
       "datetime.datetime(2021, 11, 5, 22, 40, 40, 553196)"
      ]
     },
     "execution_count": 1,
     "metadata": {},
     "output_type": "execute_result"
    }
   ],
   "source": [
    "import datetime\n",
    "\n",
    "start = datetime.datetime.now()\n",
    "start"
   ]
  },
  {
   "cell_type": "code",
   "execution_count": 2,
   "metadata": {},
   "outputs": [],
   "source": [
    "import sqlite3\n",
    "import pandas as pd\n",
    "import networkx as nx\n",
    "from tqdm.auto import tqdm\n",
    "import numpy as np\n",
    "import json\n",
    "import pickle\n",
    "import zlib\n",
    "\n",
    "db = sqlite3.connect(\"datasets.db\")\n",
    "cur = db.cursor()\n",
    "\n",
    "db_out = sqlite3.connect(\"predictions.db\")\n",
    "cur_out = db_out.cursor()"
   ]
  },
  {
   "cell_type": "code",
   "execution_count": 3,
   "metadata": {},
   "outputs": [
    {
     "data": {
      "text/plain": [
       "(467892, 4)"
      ]
     },
     "execution_count": 3,
     "metadata": {},
     "output_type": "execute_result"
    }
   ],
   "source": [
    "book_history = pd.read_sql_query(\"\"\"\n",
    "SELECT \n",
    "    readerID, \n",
    "    group_concat(COALESCE(rubric1, 0)) as rubrics, \n",
    "    group_concat(COALESCE(author_id, 0)) as authors,\n",
    "    group_concat(smart) as booklist\n",
    "FROM (\n",
    "    SELECT readerID, rubric1, author_id, smart\n",
    "    FROM circulation_short\n",
    "    JOIN books ON circulation_short.smart = books.smart_collapse_field\n",
    "    ORDER BY readerID, startDate DESC\n",
    ") as t\n",
    "GROUP BY readerID\n",
    "\n",
    "\"\"\", con=db)\n",
    "book_history.shape"
   ]
  },
  {
   "cell_type": "code",
   "execution_count": 4,
   "metadata": {},
   "outputs": [
    {
     "data": {
      "text/html": [
       "<div>\n",
       "<style scoped>\n",
       "    .dataframe tbody tr th:only-of-type {\n",
       "        vertical-align: middle;\n",
       "    }\n",
       "\n",
       "    .dataframe tbody tr th {\n",
       "        vertical-align: top;\n",
       "    }\n",
       "\n",
       "    .dataframe thead th {\n",
       "        text-align: right;\n",
       "    }\n",
       "</style>\n",
       "<table border=\"1\" class=\"dataframe\">\n",
       "  <thead>\n",
       "    <tr style=\"text-align: right;\">\n",
       "      <th></th>\n",
       "      <th>readerID</th>\n",
       "      <th>rubrics</th>\n",
       "      <th>authors</th>\n",
       "      <th>booklist</th>\n",
       "    </tr>\n",
       "  </thead>\n",
       "  <tbody>\n",
       "    <tr>\n",
       "      <th>0</th>\n",
       "      <td>163</td>\n",
       "      <td>[657, 252, 479]</td>\n",
       "      <td>[None, 91143, 130512]</td>\n",
       "      <td>[849520, 716481, 173828]</td>\n",
       "    </tr>\n",
       "    <tr>\n",
       "      <th>1</th>\n",
       "      <td>165</td>\n",
       "      <td>[124]</td>\n",
       "      <td>[133250]</td>\n",
       "      <td>[1112960]</td>\n",
       "    </tr>\n",
       "  </tbody>\n",
       "</table>\n",
       "</div>"
      ],
      "text/plain": [
       "   readerID          rubrics                authors                  booklist\n",
       "0       163  [657, 252, 479]  [None, 91143, 130512]  [849520, 716481, 173828]\n",
       "1       165            [124]               [133250]                 [1112960]"
      ]
     },
     "execution_count": 4,
     "metadata": {},
     "output_type": "execute_result"
    }
   ],
   "source": [
    "book_history[\"rubrics\"] = book_history[\"rubrics\"].apply(lambda x: [int(i) if i != \"0\" else None for i in x.split(\",\") ])\n",
    "book_history[\"authors\"] = book_history[\"authors\"].apply(lambda x: [int(i) if i != \"0\" else None for i in x.split(\",\")])\n",
    "book_history[\"booklist\"] = book_history[\"booklist\"].apply(lambda x: [int(i) if i != \"0\" else None for i in x.split(\",\")])\n",
    "\n",
    "book_history.head(2)"
   ]
  },
  {
   "cell_type": "code",
   "execution_count": 5,
   "metadata": {},
   "outputs": [
    {
     "data": {
      "text/html": [
       "<div>\n",
       "<style scoped>\n",
       "    .dataframe tbody tr th:only-of-type {\n",
       "        vertical-align: middle;\n",
       "    }\n",
       "\n",
       "    .dataframe tbody tr th {\n",
       "        vertical-align: top;\n",
       "    }\n",
       "\n",
       "    .dataframe thead th {\n",
       "        text-align: right;\n",
       "    }\n",
       "</style>\n",
       "<table border=\"1\" class=\"dataframe\">\n",
       "  <thead>\n",
       "    <tr style=\"text-align: right;\">\n",
       "      <th></th>\n",
       "      <th>readerID</th>\n",
       "      <th>rubrics</th>\n",
       "      <th>authors</th>\n",
       "      <th>booklist</th>\n",
       "    </tr>\n",
       "  </thead>\n",
       "  <tbody>\n",
       "    <tr>\n",
       "      <th>35</th>\n",
       "      <td>232</td>\n",
       "      <td>[479, 681, 479, 479, 657, 657, 479, 479, 161, ...</td>\n",
       "      <td>[95006, None, 139854, 133036, 132513, 139870, ...</td>\n",
       "      <td>[471837, 872371, 468760, 1246730, 1186354, 158...</td>\n",
       "    </tr>\n",
       "    <tr>\n",
       "      <th>36</th>\n",
       "      <td>233</td>\n",
       "      <td>[630, 218, 630, 11, 207, 657, 479, 479, 2, 610...</td>\n",
       "      <td>[32370, 93531, 192999, 157558, 71571, None, 11...</td>\n",
       "      <td>[401605, 1243740, 1539171, 872860, 846496, 141...</td>\n",
       "    </tr>\n",
       "    <tr>\n",
       "      <th>37</th>\n",
       "      <td>234</td>\n",
       "      <td>[620, 674, 479, 11, 479, 479, 66, 98, 681, 114...</td>\n",
       "      <td>[157395, 194663, 126931, 126425, 43057, 116251...</td>\n",
       "      <td>[1587549, 1583025, 1231715, 1532013, 313007, 1...</td>\n",
       "    </tr>\n",
       "    <tr>\n",
       "      <th>39</th>\n",
       "      <td>236</td>\n",
       "      <td>[479, 681, 402, 479, 681, 11, 479, 479, 479, 4...</td>\n",
       "      <td>[52171, None, None, 19983, None, None, 111093,...</td>\n",
       "      <td>[1247607, 469847, 874354, 435008, 1242520, 124...</td>\n",
       "    </tr>\n",
       "    <tr>\n",
       "      <th>46</th>\n",
       "      <td>243</td>\n",
       "      <td>[479, 479, 479, 479, 479, 479, 479, 479, 479, ...</td>\n",
       "      <td>[107019, 171093, 170966, 57657, 131454, 138148...</td>\n",
       "      <td>[1587163, 1247532, 877223, 471912, 1242048, 46...</td>\n",
       "    </tr>\n",
       "    <tr>\n",
       "      <th>...</th>\n",
       "      <td>...</td>\n",
       "      <td>...</td>\n",
       "      <td>...</td>\n",
       "      <td>...</td>\n",
       "    </tr>\n",
       "    <tr>\n",
       "      <th>463362</th>\n",
       "      <td>724686</td>\n",
       "      <td>[681, 681, 681, 681, None, None, 681, 681, Non...</td>\n",
       "      <td>[None, None, None, None, None, None, None, Non...</td>\n",
       "      <td>[1574076, 439739, 1574077, 472678, 472679, 123...</td>\n",
       "    </tr>\n",
       "    <tr>\n",
       "      <th>463589</th>\n",
       "      <td>725123</td>\n",
       "      <td>[620, 693, 630, 620, 104, 104, 89, 89, 89, 89,...</td>\n",
       "      <td>[92161, None, None, None, 164412, 130149, None...</td>\n",
       "      <td>[386604, 829150, 840982, 850286, 1206533, 3991...</td>\n",
       "    </tr>\n",
       "    <tr>\n",
       "      <th>463604</th>\n",
       "      <td>725161</td>\n",
       "      <td>[657, 657, 657, 657, 630, 630, 630, 114, 218, ...</td>\n",
       "      <td>[None, None, None, None, None, 20087, 92940, 1...</td>\n",
       "      <td>[417545, 834184, 842313, 448664, 416227, 11971...</td>\n",
       "    </tr>\n",
       "    <tr>\n",
       "      <th>464269</th>\n",
       "      <td>726439</td>\n",
       "      <td>[681, 681, 681, None, None, None, 681, None, 6...</td>\n",
       "      <td>[None, None, None, None, None, None, None, Non...</td>\n",
       "      <td>[472284, 852086, 441696, 1595156, 1576047, 407...</td>\n",
       "    </tr>\n",
       "    <tr>\n",
       "      <th>464278</th>\n",
       "      <td>726453</td>\n",
       "      <td>[700, 700, 700, 700, 700, 700, 700, 700, 700, ...</td>\n",
       "      <td>[None, None, None, None, None, None, None, Non...</td>\n",
       "      <td>[443910, 1230278, 1239386, 1230280, 1587522, 8...</td>\n",
       "    </tr>\n",
       "  </tbody>\n",
       "</table>\n",
       "<p>23243 rows × 4 columns</p>\n",
       "</div>"
      ],
      "text/plain": [
       "        readerID                                            rubrics  \\\n",
       "35           232  [479, 681, 479, 479, 657, 657, 479, 479, 161, ...   \n",
       "36           233  [630, 218, 630, 11, 207, 657, 479, 479, 2, 610...   \n",
       "37           234  [620, 674, 479, 11, 479, 479, 66, 98, 681, 114...   \n",
       "39           236  [479, 681, 402, 479, 681, 11, 479, 479, 479, 4...   \n",
       "46           243  [479, 479, 479, 479, 479, 479, 479, 479, 479, ...   \n",
       "...          ...                                                ...   \n",
       "463362    724686  [681, 681, 681, 681, None, None, 681, 681, Non...   \n",
       "463589    725123  [620, 693, 630, 620, 104, 104, 89, 89, 89, 89,...   \n",
       "463604    725161  [657, 657, 657, 657, 630, 630, 630, 114, 218, ...   \n",
       "464269    726439  [681, 681, 681, None, None, None, 681, None, 6...   \n",
       "464278    726453  [700, 700, 700, 700, 700, 700, 700, 700, 700, ...   \n",
       "\n",
       "                                                  authors  \\\n",
       "35      [95006, None, 139854, 133036, 132513, 139870, ...   \n",
       "36      [32370, 93531, 192999, 157558, 71571, None, 11...   \n",
       "37      [157395, 194663, 126931, 126425, 43057, 116251...   \n",
       "39      [52171, None, None, 19983, None, None, 111093,...   \n",
       "46      [107019, 171093, 170966, 57657, 131454, 138148...   \n",
       "...                                                   ...   \n",
       "463362  [None, None, None, None, None, None, None, Non...   \n",
       "463589  [92161, None, None, None, 164412, 130149, None...   \n",
       "463604  [None, None, None, None, None, 20087, 92940, 1...   \n",
       "464269  [None, None, None, None, None, None, None, Non...   \n",
       "464278  [None, None, None, None, None, None, None, Non...   \n",
       "\n",
       "                                                 booklist  \n",
       "35      [471837, 872371, 468760, 1246730, 1186354, 158...  \n",
       "36      [401605, 1243740, 1539171, 872860, 846496, 141...  \n",
       "37      [1587549, 1583025, 1231715, 1532013, 313007, 1...  \n",
       "39      [1247607, 469847, 874354, 435008, 1242520, 124...  \n",
       "46      [1587163, 1247532, 877223, 471912, 1242048, 46...  \n",
       "...                                                   ...  \n",
       "463362  [1574076, 439739, 1574077, 472678, 472679, 123...  \n",
       "463589  [386604, 829150, 840982, 850286, 1206533, 3991...  \n",
       "463604  [417545, 834184, 842313, 448664, 416227, 11971...  \n",
       "464269  [472284, 852086, 441696, 1595156, 1576047, 407...  \n",
       "464278  [443910, 1230278, 1239386, 1230280, 1587522, 8...  \n",
       "\n",
       "[23243 rows x 4 columns]"
      ]
     },
     "execution_count": 5,
     "metadata": {},
     "output_type": "execute_result"
    }
   ],
   "source": [
    "book_history[book_history[\"booklist\"].apply(len) > 50]"
   ]
  },
  {
   "cell_type": "markdown",
   "metadata": {},
   "source": [
    "## Загрузить модели"
   ]
  },
  {
   "cell_type": "code",
   "execution_count": 6,
   "metadata": {},
   "outputs": [],
   "source": [
    "with open(\"author_graphs.pkl\", \"rb\") as f:\n",
    "    authors = pickle.load(f)"
   ]
  },
  {
   "cell_type": "code",
   "execution_count": 7,
   "metadata": {},
   "outputs": [],
   "source": [
    "cur.execute(\"\"\"\n",
    "SELECT collapse_in, group_concat(collapse_out) \n",
    "FROM (SELECT collapse_in, collapse_out FROM prediction_author_sequence ORDER BY cnt DESC)\n",
    "GROUP BY collapse_in\n",
    "\"\"\")\n",
    "series = {k: [int(i) for i in v.split(\",\")] for k, v in cur.fetchall()}\n",
    "\n",
    "cur.execute(\"\"\"\n",
    "SELECT collapse_in, group_concat(collapse_out) \n",
    "FROM (SELECT collapse_in, collapse_out FROM prediction_nouthor_sequence ORDER BY cnt DESC)\n",
    "GROUP BY collapse_in\n",
    "\"\"\")\n",
    "noauthor = {k: [int(i) for i in v.split(\",\")] for k, v in cur.fetchall()}"
   ]
  },
  {
   "cell_type": "code",
   "execution_count": 8,
   "metadata": {},
   "outputs": [],
   "source": [
    "# cur.execute(\"SELECT author_id, group_concat(smart_collapse_field) FROM books GROUP BY author_id ORDER BY available DESC\")\n",
    "cur.execute(\"\"\"\n",
    "SELECT author_id, group_concat(smart_collapse_field) \n",
    "FROM (SELECT author_id, smart_collapse_field FROM books WHERE author_id IS NOT NULL ORDER BY available DESC)\n",
    "GROUP BY author_id\n",
    "\"\"\")\n",
    "author_book = {k: [int(i) for i in v.split(\",\")] for k, v in cur.fetchall()}\n",
    "\n",
    "cur.execute(\"\"\"\n",
    "SELECT author_id, rubric1, group_concat(smart_collapse_field) \n",
    "FROM (SELECT author_id, rubric1, smart_collapse_field FROM books WHERE author_id IS NOT NULL AND rubric1 IS NOT NULL ORDER BY available DESC)\n",
    "GROUP BY author_id, rubric1\n",
    "\"\"\")\n",
    "author_rubric = {k: {r: [int(i) for i in v.split(\",\")]} for k, r, v in cur.fetchall()}"
   ]
  },
  {
   "cell_type": "markdown",
   "metadata": {},
   "source": [
    "### Информация о книгах"
   ]
  },
  {
   "cell_type": "code",
   "execution_count": 9,
   "metadata": {},
   "outputs": [],
   "source": [
    "cur.execute(\"\"\"\n",
    "SELECT smart_collapse_field, id, title, author_fullName \n",
    "FROM books LEFT JOIN authors ON books.author_id = authors.author_id\n",
    "\"\"\")\n",
    "book_info = {s: (i, t, a) for s, i, t, a in cur.fetchall()}"
   ]
  },
  {
   "cell_type": "markdown",
   "metadata": {},
   "source": [
    "## Предсказания"
   ]
  },
  {
   "cell_type": "code",
   "execution_count": 10,
   "metadata": {},
   "outputs": [],
   "source": [
    "def predict_one(rubric, author, book):\n",
    "    if book in series:\n",
    "        return series[book]\n",
    "    elif book in noauthor:\n",
    "        return noauthor[book]\n",
    "    elif rubric in authors and author in authors[rubric]:\n",
    "        view = [(v[\"weight\"], k) for k, v in dict(authors[rubric][author]).items()]\n",
    "        current_authors = [i[0] for i in sorted(view)[:10]]\n",
    "        current_books = []\n",
    "        for ia, a in enumerate(current_authors):\n",
    "            if a in author_rubric and rubric in author_rubric[a]:\n",
    "                current_books.extend([(i, ia, b) for i, b in enumerate(author_rubric[a][rubric][:5])])\n",
    "            elif a in author_book:\n",
    "                current_books.extend([(i, ia, b) for i, b in enumerate(author_book[a][:5])])\n",
    "        current_books = [i[-1] for i in sorted(current_books)]\n",
    "        return current_books\n",
    "    return []"
   ]
  },
  {
   "cell_type": "code",
   "execution_count": 11,
   "metadata": {},
   "outputs": [],
   "source": [
    "def api_predictions(rubrics, authors, booklist, k=10):\n",
    "    seen = set(booklist)\n",
    "    result = []\n",
    "    n = 0\n",
    "    for i, triple in enumerate(zip(rubrics, authors, booklist)):\n",
    "        variants = predict_one(*triple)\n",
    "        for i2, v in enumerate(variants):\n",
    "            result.append((i2, i, v))\n",
    "    final_res = []\n",
    "    for i in sorted(result):\n",
    "        this = i[-1]\n",
    "        if this not in seen:\n",
    "            final_res.append(this)\n",
    "            seen.add(this)\n",
    "    return final_res[:k]"
   ]
  },
  {
   "cell_type": "code",
   "execution_count": 12,
   "metadata": {},
   "outputs": [],
   "source": [
    "def pretty_predict(rubrics, authors, booklist, k=10):\n",
    "    history = []\n",
    "    preds = []\n",
    "    for b in booklist[:10]:\n",
    "        info = book_info.get(b, [0, \"\", \"\"])\n",
    "        history.append({\n",
    "            \"id\": info[0], \"title\": info[1], \"author\": info[2]\n",
    "        })\n",
    "        \n",
    "    predictions = api_predictions(rubrics, authors, booklist, k=k)\n",
    "    \n",
    "    for b in predictions:\n",
    "        info = book_info.get(b, [0, \"\", \"\"])\n",
    "        preds.append({\n",
    "           \"id\": info[0], \"title\": info[1], \"author\": info[2]\n",
    "        })\n",
    "    return (\n",
    "        zlib.compress(json.dumps(history, ensure_ascii=False).encode(\"utf-8\"), level=9), \n",
    "        zlib.compress(json.dumps(preds, ensure_ascii=False).encode(\"utf-8\"), level=9)\n",
    "    )"
   ]
  },
  {
   "cell_type": "code",
   "execution_count": 13,
   "metadata": {},
   "outputs": [],
   "source": [
    "cur_out.execute(\"DROP TABLE IF EXISTS recommendations\")\n",
    "cur_out.execute(\"CREATE TABLE recommendations (id INTEGER PRIMARY KEY, history BLOB, recommendations BLOB)\")\n",
    "db_out.commit()"
   ]
  },
  {
   "cell_type": "code",
   "execution_count": 14,
   "metadata": {},
   "outputs": [
    {
     "data": {
      "application/vnd.jupyter.widget-view+json": {
       "model_id": "c2cbb0ed57bf436cb5869b336e72dc85",
       "version_major": 2,
       "version_minor": 0
      },
      "text/plain": [
       "  0%|          | 0/467892 [00:00<?, ?it/s]"
      ]
     },
     "metadata": {},
     "output_type": "display_data"
    }
   ],
   "source": [
    "cnt = 0\n",
    "data = []\n",
    "for rid, r, a, b in tqdm(book_history.values):\n",
    "    pred = pretty_predict(r, a, b, k=10)\n",
    "    data.append((rid, *pred))\n",
    "    cnt += 1\n",
    "    if cnt % 1000 == 0:\n",
    "        cur_out.executemany(\"INSERT INTO recommendations VALUES (?, ?, ?)\", data)\n",
    "        db_out.commit()\n",
    "        data = []\n",
    "        \n",
    "cur_out.executemany(\"INSERT INTO recommendations VALUES (?, ?, ?)\", data)\n",
    "db_out.commit()"
   ]
  },
  {
   "cell_type": "code",
   "execution_count": 15,
   "metadata": {},
   "outputs": [
    {
     "name": "stdout",
     "output_type": "stream",
     "text": [
      "2021-11-05 22:43:19.462413\n",
      "0:02:38.909312\n"
     ]
    }
   ],
   "source": [
    "print(datetime.datetime.now())\n",
    "print(datetime.datetime.now() - start)"
   ]
  }
 ],
 "metadata": {
  "kernelspec": {
   "display_name": "Python 3",
   "language": "python",
   "name": "python3"
  },
  "language_info": {
   "codemirror_mode": {
    "name": "ipython",
    "version": 3
   },
   "file_extension": ".py",
   "mimetype": "text/x-python",
   "name": "python",
   "nbconvert_exporter": "python",
   "pygments_lexer": "ipython3",
   "version": "3.8.10"
  }
 },
 "nbformat": 4,
 "nbformat_minor": 4
}
