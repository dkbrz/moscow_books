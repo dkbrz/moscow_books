{
 "cells": [
  {
   "cell_type": "code",
   "execution_count": 1,
   "metadata": {},
   "outputs": [
    {
     "data": {
      "text/plain": [
       "datetime.datetime(2021, 11, 6, 9, 56, 4, 694725)"
      ]
     },
     "execution_count": 1,
     "metadata": {},
     "output_type": "execute_result"
    }
   ],
   "source": [
    "import datetime\n",
    "\n",
    "start = datetime.datetime.now()\n",
    "start"
   ]
  },
  {
   "cell_type": "code",
   "execution_count": 2,
   "metadata": {},
   "outputs": [],
   "source": [
    "import sqlite3\n",
    "import pandas as pd\n",
    "import networkx as nx\n",
    "from tqdm.auto import tqdm\n",
    "import numpy as np\n",
    "import json\n",
    "import pickle\n",
    "import zlib\n",
    "\n",
    "db = sqlite3.connect(\"datasets.db\")\n",
    "cur = db.cursor()\n",
    "\n",
    "db_out = sqlite3.connect(\"predictions.db\")\n",
    "cur_out = db_out.cursor()"
   ]
  },
  {
   "cell_type": "code",
   "execution_count": 3,
   "metadata": {},
   "outputs": [
    {
     "data": {
      "text/plain": [
       "(467892, 4)"
      ]
     },
     "execution_count": 3,
     "metadata": {},
     "output_type": "execute_result"
    }
   ],
   "source": [
    "book_history = pd.read_sql_query(\"\"\"\n",
    "SELECT \n",
    "    readerID, \n",
    "    group_concat(COALESCE(rubric1, 0)) as rubrics, \n",
    "    group_concat(COALESCE(author_id, 0)) as authors,\n",
    "    group_concat(smart) as booklist\n",
    "FROM (\n",
    "    SELECT readerID, rubric1, author_id, smart\n",
    "    FROM circulation_short\n",
    "    JOIN books ON circulation_short.smart = books.smart_collapse_field\n",
    "    ORDER BY readerID, startDate DESC\n",
    ") as t\n",
    "GROUP BY readerID\n",
    "\n",
    "\"\"\", con=db)\n",
    "book_history.shape"
   ]
  },
  {
   "cell_type": "code",
   "execution_count": 4,
   "metadata": {},
   "outputs": [
    {
     "data": {
      "text/html": [
       "<div>\n",
       "<style scoped>\n",
       "    .dataframe tbody tr th:only-of-type {\n",
       "        vertical-align: middle;\n",
       "    }\n",
       "\n",
       "    .dataframe tbody tr th {\n",
       "        vertical-align: top;\n",
       "    }\n",
       "\n",
       "    .dataframe thead th {\n",
       "        text-align: right;\n",
       "    }\n",
       "</style>\n",
       "<table border=\"1\" class=\"dataframe\">\n",
       "  <thead>\n",
       "    <tr style=\"text-align: right;\">\n",
       "      <th></th>\n",
       "      <th>readerID</th>\n",
       "      <th>rubrics</th>\n",
       "      <th>authors</th>\n",
       "      <th>booklist</th>\n",
       "    </tr>\n",
       "  </thead>\n",
       "  <tbody>\n",
       "    <tr>\n",
       "      <th>0</th>\n",
       "      <td>163</td>\n",
       "      <td>[657, 252, 479]</td>\n",
       "      <td>[None, 91143, 130512]</td>\n",
       "      <td>[849520, 716481, 173828]</td>\n",
       "    </tr>\n",
       "    <tr>\n",
       "      <th>1</th>\n",
       "      <td>165</td>\n",
       "      <td>[124]</td>\n",
       "      <td>[133250]</td>\n",
       "      <td>[1112960]</td>\n",
       "    </tr>\n",
       "  </tbody>\n",
       "</table>\n",
       "</div>"
      ],
      "text/plain": [
       "   readerID          rubrics                authors                  booklist\n",
       "0       163  [657, 252, 479]  [None, 91143, 130512]  [849520, 716481, 173828]\n",
       "1       165            [124]               [133250]                 [1112960]"
      ]
     },
     "execution_count": 4,
     "metadata": {},
     "output_type": "execute_result"
    }
   ],
   "source": [
    "book_history[\"rubrics\"] = book_history[\"rubrics\"].apply(lambda x: [int(i) if i != \"0\" else None for i in x.split(\",\") ])\n",
    "book_history[\"authors\"] = book_history[\"authors\"].apply(lambda x: [int(i) if i != \"0\" else None for i in x.split(\",\")])\n",
    "book_history[\"booklist\"] = book_history[\"booklist\"].apply(lambda x: [int(i) if i != \"0\" else None for i in x.split(\",\")])\n",
    "\n",
    "book_history.head(2)"
   ]
  },
  {
   "cell_type": "code",
   "execution_count": 5,
   "metadata": {},
   "outputs": [
    {
     "data": {
      "text/html": [
       "<div>\n",
       "<style scoped>\n",
       "    .dataframe tbody tr th:only-of-type {\n",
       "        vertical-align: middle;\n",
       "    }\n",
       "\n",
       "    .dataframe tbody tr th {\n",
       "        vertical-align: top;\n",
       "    }\n",
       "\n",
       "    .dataframe thead th {\n",
       "        text-align: right;\n",
       "    }\n",
       "</style>\n",
       "<table border=\"1\" class=\"dataframe\">\n",
       "  <thead>\n",
       "    <tr style=\"text-align: right;\">\n",
       "      <th></th>\n",
       "      <th>readerID</th>\n",
       "      <th>rubrics</th>\n",
       "      <th>authors</th>\n",
       "      <th>booklist</th>\n",
       "    </tr>\n",
       "  </thead>\n",
       "  <tbody>\n",
       "    <tr>\n",
       "      <th>35</th>\n",
       "      <td>232</td>\n",
       "      <td>[479, 681, 479, 479, 479, 657, 657, 479, 161, ...</td>\n",
       "      <td>[95006, None, 133036, 139854, 43704, 139870, 1...</td>\n",
       "      <td>[471837, 872371, 1246730, 468760, 437587, 1587...</td>\n",
       "    </tr>\n",
       "    <tr>\n",
       "      <th>36</th>\n",
       "      <td>233</td>\n",
       "      <td>[630, 218, 11, 207, 630, 657, 479, 479, 2, 610...</td>\n",
       "      <td>[32370, 93531, 157558, 71571, 192999, None, 11...</td>\n",
       "      <td>[401605, 1243740, 872860, 846496, 1539171, 141...</td>\n",
       "    </tr>\n",
       "    <tr>\n",
       "      <th>37</th>\n",
       "      <td>234</td>\n",
       "      <td>[620, 674, 479, 11, 479, 98, 66, 479, 681, 403...</td>\n",
       "      <td>[157395, 194663, 126931, 126425, 43057, 127828...</td>\n",
       "      <td>[1587549, 1583025, 1231715, 1532013, 313007, 1...</td>\n",
       "    </tr>\n",
       "    <tr>\n",
       "      <th>39</th>\n",
       "      <td>236</td>\n",
       "      <td>[479, 681, 402, 479, 681, 11, 479, 479, 479, 4...</td>\n",
       "      <td>[52171, None, None, 19983, None, None, 111093,...</td>\n",
       "      <td>[1247607, 469847, 874354, 435008, 1242520, 124...</td>\n",
       "    </tr>\n",
       "    <tr>\n",
       "      <th>46</th>\n",
       "      <td>243</td>\n",
       "      <td>[479, 479, 479, 479, 479, 479, 479, 479, 479, ...</td>\n",
       "      <td>[170966, 57657, 131454, 171093, 107019, 138148...</td>\n",
       "      <td>[877223, 471912, 1242048, 1247532, 1587163, 46...</td>\n",
       "    </tr>\n",
       "    <tr>\n",
       "      <th>...</th>\n",
       "      <td>...</td>\n",
       "      <td>...</td>\n",
       "      <td>...</td>\n",
       "      <td>...</td>\n",
       "    </tr>\n",
       "    <tr>\n",
       "      <th>463362</th>\n",
       "      <td>724686</td>\n",
       "      <td>[681, None, None, 681, 681, None, None, None, ...</td>\n",
       "      <td>[None, None, None, None, None, None, None, Non...</td>\n",
       "      <td>[472678, 472679, 1230524, 436764, 1230523, 158...</td>\n",
       "    </tr>\n",
       "    <tr>\n",
       "      <th>463589</th>\n",
       "      <td>725123</td>\n",
       "      <td>[630, 693, 620, 620, 104, 104, 89, 89, 89, 89,...</td>\n",
       "      <td>[None, None, 92161, None, 164412, 130149, None...</td>\n",
       "      <td>[840982, 829150, 386604, 850286, 1206533, 3991...</td>\n",
       "    </tr>\n",
       "    <tr>\n",
       "      <th>463604</th>\n",
       "      <td>725161</td>\n",
       "      <td>[630, 630, 630, 657, 657, 657, 657, 114, 218, ...</td>\n",
       "      <td>[92940, 20087, None, None, None, None, None, 1...</td>\n",
       "      <td>[190971, 1197131, 416227, 448664, 842313, 8341...</td>\n",
       "    </tr>\n",
       "    <tr>\n",
       "      <th>464269</th>\n",
       "      <td>726439</td>\n",
       "      <td>[681, 681, None, None, None, 681, 681, 681, No...</td>\n",
       "      <td>[None, None, None, None, None, None, None, Non...</td>\n",
       "      <td>[1553377, 848483, 441448, 472515, 441446, 4416...</td>\n",
       "    </tr>\n",
       "    <tr>\n",
       "      <th>464278</th>\n",
       "      <td>726453</td>\n",
       "      <td>[700, 700, 700, 700, 700, 700, 700, 700, 700, ...</td>\n",
       "      <td>[None, None, None, None, None, None, None, Non...</td>\n",
       "      <td>[1565686, 848614, 1565687, 459921, 1574074, 12...</td>\n",
       "    </tr>\n",
       "  </tbody>\n",
       "</table>\n",
       "<p>23243 rows × 4 columns</p>\n",
       "</div>"
      ],
      "text/plain": [
       "        readerID                                            rubrics  \\\n",
       "35           232  [479, 681, 479, 479, 479, 657, 657, 479, 161, ...   \n",
       "36           233  [630, 218, 11, 207, 630, 657, 479, 479, 2, 610...   \n",
       "37           234  [620, 674, 479, 11, 479, 98, 66, 479, 681, 403...   \n",
       "39           236  [479, 681, 402, 479, 681, 11, 479, 479, 479, 4...   \n",
       "46           243  [479, 479, 479, 479, 479, 479, 479, 479, 479, ...   \n",
       "...          ...                                                ...   \n",
       "463362    724686  [681, None, None, 681, 681, None, None, None, ...   \n",
       "463589    725123  [630, 693, 620, 620, 104, 104, 89, 89, 89, 89,...   \n",
       "463604    725161  [630, 630, 630, 657, 657, 657, 657, 114, 218, ...   \n",
       "464269    726439  [681, 681, None, None, None, 681, 681, 681, No...   \n",
       "464278    726453  [700, 700, 700, 700, 700, 700, 700, 700, 700, ...   \n",
       "\n",
       "                                                  authors  \\\n",
       "35      [95006, None, 133036, 139854, 43704, 139870, 1...   \n",
       "36      [32370, 93531, 157558, 71571, 192999, None, 11...   \n",
       "37      [157395, 194663, 126931, 126425, 43057, 127828...   \n",
       "39      [52171, None, None, 19983, None, None, 111093,...   \n",
       "46      [170966, 57657, 131454, 171093, 107019, 138148...   \n",
       "...                                                   ...   \n",
       "463362  [None, None, None, None, None, None, None, Non...   \n",
       "463589  [None, None, 92161, None, 164412, 130149, None...   \n",
       "463604  [92940, 20087, None, None, None, None, None, 1...   \n",
       "464269  [None, None, None, None, None, None, None, Non...   \n",
       "464278  [None, None, None, None, None, None, None, Non...   \n",
       "\n",
       "                                                 booklist  \n",
       "35      [471837, 872371, 1246730, 468760, 437587, 1587...  \n",
       "36      [401605, 1243740, 872860, 846496, 1539171, 141...  \n",
       "37      [1587549, 1583025, 1231715, 1532013, 313007, 1...  \n",
       "39      [1247607, 469847, 874354, 435008, 1242520, 124...  \n",
       "46      [877223, 471912, 1242048, 1247532, 1587163, 46...  \n",
       "...                                                   ...  \n",
       "463362  [472678, 472679, 1230524, 436764, 1230523, 158...  \n",
       "463589  [840982, 829150, 386604, 850286, 1206533, 3991...  \n",
       "463604  [190971, 1197131, 416227, 448664, 842313, 8341...  \n",
       "464269  [1553377, 848483, 441448, 472515, 441446, 4416...  \n",
       "464278  [1565686, 848614, 1565687, 459921, 1574074, 12...  \n",
       "\n",
       "[23243 rows x 4 columns]"
      ]
     },
     "execution_count": 5,
     "metadata": {},
     "output_type": "execute_result"
    }
   ],
   "source": [
    "book_history[book_history[\"booklist\"].apply(len) > 50]"
   ]
  },
  {
   "cell_type": "markdown",
   "metadata": {},
   "source": [
    "## Загрузить модели"
   ]
  },
  {
   "cell_type": "code",
   "execution_count": 6,
   "metadata": {},
   "outputs": [],
   "source": [
    "with open(\"author_graphs.pkl\", \"rb\") as f:\n",
    "    authors = pickle.load(f)"
   ]
  },
  {
   "cell_type": "code",
   "execution_count": 7,
   "metadata": {},
   "outputs": [],
   "source": [
    "cur.execute(\"\"\"\n",
    "SELECT collapse_in, group_concat(collapse_out) \n",
    "FROM (SELECT collapse_in, collapse_out FROM prediction_author_sequence ORDER BY cnt DESC)\n",
    "GROUP BY collapse_in\n",
    "\"\"\")\n",
    "series = {k: [int(i) for i in v.split(\",\")] for k, v in cur.fetchall()}\n",
    "\n",
    "cur.execute(\"\"\"\n",
    "SELECT collapse_in, group_concat(collapse_out) \n",
    "FROM (SELECT collapse_in, collapse_out FROM prediction_nouthor_sequence ORDER BY cnt DESC)\n",
    "GROUP BY collapse_in\n",
    "\"\"\")\n",
    "noauthor = {k: [int(i) for i in v.split(\",\")] for k, v in cur.fetchall()}"
   ]
  },
  {
   "cell_type": "code",
   "execution_count": 8,
   "metadata": {},
   "outputs": [],
   "source": [
    "# cur.execute(\"SELECT author_id, group_concat(smart_collapse_field) FROM books GROUP BY author_id ORDER BY available DESC\")\n",
    "cur.execute(\"\"\"\n",
    "SELECT author_id, group_concat(smart_collapse_field) \n",
    "FROM (SELECT author_id, smart_collapse_field FROM books WHERE author_id IS NOT NULL ORDER BY available DESC)\n",
    "GROUP BY author_id\n",
    "\"\"\")\n",
    "author_book = {k: [int(i) for i in v.split(\",\")] for k, v in cur.fetchall()}\n",
    "\n",
    "cur.execute(\"\"\"\n",
    "SELECT author_id, rubric1, group_concat(smart_collapse_field) \n",
    "FROM (SELECT author_id, rubric1, smart_collapse_field FROM books WHERE author_id IS NOT NULL AND rubric1 IS NOT NULL ORDER BY available DESC)\n",
    "GROUP BY author_id, rubric1\n",
    "\"\"\")\n",
    "author_rubric = {k: {r: [int(i) for i in v.split(\",\")]} for k, r, v in cur.fetchall()}"
   ]
  },
  {
   "cell_type": "code",
   "execution_count": 9,
   "metadata": {},
   "outputs": [],
   "source": [
    "cur.execute(\"\"\"\n",
    "SELECT rubric1, group_concat(smart_collapse_field)\n",
    "FROM (SELECT rubric1, smart_collapse_field, available FROM books ORDER BY available) as t\n",
    "GROUP BY rubric1\n",
    "\"\"\")\n",
    "rubric_books = {k: [int(i) for i in v.split(\",\")][:-1][:25] for k, v in cur.fetchall()}"
   ]
  },
  {
   "cell_type": "markdown",
   "metadata": {},
   "source": [
    "### Информация о книгах"
   ]
  },
  {
   "cell_type": "code",
   "execution_count": 10,
   "metadata": {},
   "outputs": [],
   "source": [
    "cur.execute(\"\"\"\n",
    "SELECT smart_collapse_field, id, title, author_fullName \n",
    "FROM books LEFT JOIN authors ON books.author_id = authors.author_id\n",
    "\"\"\")\n",
    "book_info = {s: (i, t, a) for s, i, t, a in cur.fetchall()}"
   ]
  },
  {
   "cell_type": "markdown",
   "metadata": {},
   "source": [
    "## Предсказания"
   ]
  },
  {
   "cell_type": "code",
   "execution_count": 11,
   "metadata": {},
   "outputs": [],
   "source": [
    "def predict_one(rubric, author, book):\n",
    "    if book in series and series[book]:\n",
    "        return series[book]\n",
    "    elif book in noauthor and noauthor[book]:\n",
    "        return noauthor[book]\n",
    "    elif rubric in authors and author in authors[rubric]:\n",
    "        view = [(v[\"weight\"], k) for k, v in dict(authors[rubric][author]).items()]\n",
    "        current_authors = [i[1] for i in sorted(view)[:10]]\n",
    "        current_books = []\n",
    "        for ia, a in enumerate(current_authors):\n",
    "            if a in author_rubric and rubric in author_rubric[a]:\n",
    "                current_books.extend([(i, ia, b) for i, b in enumerate(author_rubric[a][rubric][:5])])\n",
    "            elif a in author_book:\n",
    "                current_books.extend([(i, ia, b) for i, b in enumerate(author_book[a][:5])])\n",
    "        current_books = [i[-1] for i in sorted(current_books)]\n",
    "        if not current_books:\n",
    "            pass\n",
    "        elif len(current_books) < 5 and rubric in rubric_books:\n",
    "            return current_books + rubric_books[rubric]\n",
    "        else:\n",
    "            return current_books\n",
    "    if rubric in rubric_books:\n",
    "        return rubric_books[rubric]\n",
    "    return []"
   ]
  },
  {
   "cell_type": "code",
   "execution_count": 12,
   "metadata": {},
   "outputs": [],
   "source": [
    "def api_predictions(rubrics, authors, booklist, k=10):\n",
    "    seen = set(booklist)\n",
    "    result = []\n",
    "    n = 0\n",
    "    for i, triple in enumerate(zip(rubrics, authors, booklist)):\n",
    "        variants = predict_one(*triple)\n",
    "        for i2, v in enumerate(variants):\n",
    "            result.append((i2, i, v))\n",
    "    final_res = []\n",
    "    for i in sorted(result):\n",
    "        this = i[-1]\n",
    "        if this not in seen:\n",
    "            final_res.append(this)\n",
    "            seen.add(this)\n",
    "    return final_res[:k]"
   ]
  },
  {
   "cell_type": "code",
   "execution_count": 13,
   "metadata": {},
   "outputs": [],
   "source": [
    "def pretty_predict(rubrics, authors, booklist, k=10):\n",
    "    history = []\n",
    "    preds = []\n",
    "    for b in booklist[:10]:\n",
    "        info = book_info.get(b, [0, \"\", \"\"])\n",
    "        history.append({\n",
    "            \"id\": info[0], \"title\": info[1], \"author\": info[2]\n",
    "        })\n",
    "        \n",
    "    predictions = api_predictions(rubrics, authors, booklist, k=k)\n",
    "    \n",
    "    for b in predictions:\n",
    "        info = book_info.get(b, [0, \"\", \"\"])\n",
    "        preds.append({\n",
    "           \"id\": info[0], \"title\": info[1], \"author\": info[2]\n",
    "        })\n",
    "    return (\n",
    "        zlib.compress(json.dumps(history, ensure_ascii=False).encode(\"utf-8\"), level=9), \n",
    "        zlib.compress(json.dumps(preds, ensure_ascii=False).encode(\"utf-8\"), level=9)\n",
    "    )"
   ]
  },
  {
   "cell_type": "code",
   "execution_count": 14,
   "metadata": {},
   "outputs": [],
   "source": [
    "cur_out.execute(\"DROP TABLE IF EXISTS recommendations\")\n",
    "cur_out.execute(\"CREATE TABLE recommendations (id INTEGER PRIMARY KEY, history BLOB, recommendations BLOB)\")\n",
    "db_out.commit()"
   ]
  },
  {
   "cell_type": "code",
   "execution_count": 15,
   "metadata": {},
   "outputs": [],
   "source": [
    "cur.execute(\"SELECT id, title, author FROM zero_prediction\")\n",
    "data = [{\"id\": i[0], \"title\": i[1], \"author\": i[2]} for i in cur.fetchall()]\n",
    "data = (\n",
    "    zlib.compress(json.dumps([], ensure_ascii=False).encode(\"utf-8\"), level=9), \n",
    "    zlib.compress(json.dumps(data, ensure_ascii=False).encode(\"utf-8\"), level=9)\n",
    ")"
   ]
  },
  {
   "cell_type": "code",
   "execution_count": 16,
   "metadata": {},
   "outputs": [],
   "source": [
    "cur_out.execute(\"INSERT INTO recommendations VALUES (0, ?, ?)\", data)\n",
    "db_out.commit()"
   ]
  },
  {
   "cell_type": "code",
   "execution_count": 17,
   "metadata": {},
   "outputs": [
    {
     "data": {
      "application/vnd.jupyter.widget-view+json": {
       "model_id": "cf7f9ac2d0dc4b97b51c152dcf6bb71d",
       "version_major": 2,
       "version_minor": 0
      },
      "text/plain": [
       "  0%|          | 0/467892 [00:00<?, ?it/s]"
      ]
     },
     "metadata": {},
     "output_type": "display_data"
    }
   ],
   "source": [
    "cnt = 0\n",
    "data = []\n",
    "for rid, r, a, b in tqdm(book_history.values):\n",
    "    pred = pretty_predict(r, a, b, k=10)\n",
    "    data.append((rid, *pred))\n",
    "    cnt += 1\n",
    "    if cnt % 1000 == 0:\n",
    "        cur_out.executemany(\"INSERT INTO recommendations VALUES (?, ?, ?)\", data)\n",
    "        db_out.commit()\n",
    "        data = []\n",
    "        \n",
    "cur_out.executemany(\"INSERT INTO recommendations VALUES (?, ?, ?)\", data)\n",
    "db_out.commit()"
   ]
  },
  {
   "cell_type": "code",
   "execution_count": 18,
   "metadata": {},
   "outputs": [
    {
     "name": "stdout",
     "output_type": "stream",
     "text": [
      "2021-11-06 10:00:34.580336\n",
      "0:04:29.885700\n"
     ]
    }
   ],
   "source": [
    "print(datetime.datetime.now())\n",
    "print(datetime.datetime.now() - start)"
   ]
  }
 ],
 "metadata": {
  "kernelspec": {
   "display_name": "Python 3",
   "language": "python",
   "name": "python3"
  },
  "language_info": {
   "codemirror_mode": {
    "name": "ipython",
    "version": 3
   },
   "file_extension": ".py",
   "mimetype": "text/x-python",
   "name": "python",
   "nbconvert_exporter": "python",
   "pygments_lexer": "ipython3",
   "version": "3.8.10"
  }
 },
 "nbformat": 4,
 "nbformat_minor": 4
}
