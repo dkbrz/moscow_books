{
 "cells": [
  {
   "cell_type": "code",
   "execution_count": 1,
   "metadata": {},
   "outputs": [
    {
     "data": {
      "text/plain": [
       "datetime.datetime(2021, 11, 6, 9, 5, 3, 335634)"
      ]
     },
     "execution_count": 1,
     "metadata": {},
     "output_type": "execute_result"
    }
   ],
   "source": [
    "import datetime\n",
    "\n",
    "start = datetime.datetime.now()\n",
    "start"
   ]
  },
  {
   "cell_type": "code",
   "execution_count": 2,
   "metadata": {},
   "outputs": [],
   "source": [
    "import pandas as pd\n",
    "import sqlite3\n",
    "import json\n",
    "from tqdm.auto import tqdm"
   ]
  },
  {
   "cell_type": "code",
   "execution_count": 3,
   "metadata": {},
   "outputs": [],
   "source": [
    "db = sqlite3.connect(\"datasets.db\")\n",
    "cur = db.cursor()"
   ]
  },
  {
   "cell_type": "code",
   "execution_count": 4,
   "metadata": {},
   "outputs": [],
   "source": [
    "keys = [\n",
    "    \"id\",\n",
    "    \"smart_collapse_field\",\n",
    "    \"title\",\n",
    "    \"rubric_id\",\n",
    "\n",
    "    \"author_id\",\n",
    "    \"author_fullName\",\n",
    "    \n",
    "    \"available\",\n",
    "    \"year_value\",\n",
    "]"
   ]
  },
  {
   "cell_type": "code",
   "execution_count": 5,
   "metadata": {},
   "outputs": [
    {
     "name": "stdout",
     "output_type": "stream",
     "text": [
      "2181593 ../data/books_full.jsonlines\r\n"
     ]
    }
   ],
   "source": [
    "! wc -l ../data/books_full.jsonlines"
   ]
  },
  {
   "cell_type": "code",
   "execution_count": 6,
   "metadata": {},
   "outputs": [
    {
     "data": {
      "application/vnd.jupyter.widget-view+json": {
       "model_id": "768f225b6eb94dd08f9b000099a9bfc0",
       "version_major": 2,
       "version_minor": 0
      },
      "text/plain": [
       "  0%|          | 0/2181593 [00:00<?, ?it/s]"
      ]
     },
     "metadata": {},
     "output_type": "display_data"
    },
    {
     "name": "stdout",
     "output_type": "stream",
     "text": [
      "-\n"
     ]
    }
   ],
   "source": [
    "data = []\n",
    "\n",
    "k = 0\n",
    "for line in tqdm(open(\"../data/books_full.jsonlines\"), total=2181593):\n",
    "    try:\n",
    "        row = json.loads(line)\n",
    "        res = []\n",
    "        for key in keys:\n",
    "            res.append(row.get(key))\n",
    "        data.append(res)\n",
    "        k += 1\n",
    "    except:\n",
    "        print(\"-\")"
   ]
  },
  {
   "cell_type": "code",
   "execution_count": 7,
   "metadata": {},
   "outputs": [
    {
     "data": {
      "text/plain": [
       "2181592"
      ]
     },
     "execution_count": 7,
     "metadata": {},
     "output_type": "execute_result"
    }
   ],
   "source": [
    "len(data)"
   ]
  },
  {
   "cell_type": "code",
   "execution_count": 8,
   "metadata": {},
   "outputs": [],
   "source": [
    "df = pd.DataFrame(data, columns=keys)"
   ]
  },
  {
   "cell_type": "code",
   "execution_count": 9,
   "metadata": {},
   "outputs": [
    {
     "data": {
      "text/html": [
       "<div>\n",
       "<style scoped>\n",
       "    .dataframe tbody tr th:only-of-type {\n",
       "        vertical-align: middle;\n",
       "    }\n",
       "\n",
       "    .dataframe tbody tr th {\n",
       "        vertical-align: top;\n",
       "    }\n",
       "\n",
       "    .dataframe thead th {\n",
       "        text-align: right;\n",
       "    }\n",
       "</style>\n",
       "<table border=\"1\" class=\"dataframe\">\n",
       "  <thead>\n",
       "    <tr style=\"text-align: right;\">\n",
       "      <th></th>\n",
       "      <th>id</th>\n",
       "      <th>smart_collapse_field</th>\n",
       "      <th>title</th>\n",
       "      <th>rubric_id</th>\n",
       "      <th>author_id</th>\n",
       "      <th>author_fullName</th>\n",
       "      <th>available</th>\n",
       "      <th>year_value</th>\n",
       "    </tr>\n",
       "  </thead>\n",
       "  <tbody>\n",
       "    <tr>\n",
       "      <th>0</th>\n",
       "      <td>397272</td>\n",
       "      <td>0c27869e847e67cedba21d2767b6434c</td>\n",
       "      <td>Великие правители</td>\n",
       "      <td>13.0</td>\n",
       "      <td>NaN</td>\n",
       "      <td>None</td>\n",
       "      <td>1</td>\n",
       "      <td>2005.0</td>\n",
       "    </tr>\n",
       "    <tr>\n",
       "      <th>1</th>\n",
       "      <td>397417</td>\n",
       "      <td>9f6e64326afbfa79f11d7c31d5efa5a5</td>\n",
       "      <td>Волею императрицы : Ист.романы</td>\n",
       "      <td>479.0</td>\n",
       "      <td>126874.0</td>\n",
       "      <td>Щепкина А. В.</td>\n",
       "      <td>1</td>\n",
       "      <td>1996.0</td>\n",
       "    </tr>\n",
       "  </tbody>\n",
       "</table>\n",
       "</div>"
      ],
      "text/plain": [
       "       id              smart_collapse_field                           title  \\\n",
       "0  397272  0c27869e847e67cedba21d2767b6434c               Великие правители   \n",
       "1  397417  9f6e64326afbfa79f11d7c31d5efa5a5  Волею императрицы : Ист.романы   \n",
       "\n",
       "   rubric_id  author_id author_fullName  available  year_value  \n",
       "0       13.0        NaN            None          1      2005.0  \n",
       "1      479.0   126874.0   Щепкина А. В.          1      1996.0  "
      ]
     },
     "execution_count": 9,
     "metadata": {},
     "output_type": "execute_result"
    }
   ],
   "source": [
    "df.head(2)"
   ]
  },
  {
   "cell_type": "code",
   "execution_count": 10,
   "metadata": {},
   "outputs": [],
   "source": [
    "smart_collapse = {v: i for i, v in enumerate(df[\"smart_collapse_field\"].unique())}"
   ]
  },
  {
   "cell_type": "code",
   "execution_count": 11,
   "metadata": {},
   "outputs": [],
   "source": [
    "def toint(x):\n",
    "    try:\n",
    "        if type(x) == int:\n",
    "            return x\n",
    "        if type(x) == str and \".\" in x:\n",
    "            return int(x.split(\".\")[0])\n",
    "        return int(x)\n",
    "    except:\n",
    "        return -1"
   ]
  },
  {
   "cell_type": "code",
   "execution_count": 12,
   "metadata": {},
   "outputs": [],
   "source": [
    "for key in [\"rubric_id\", \"author_id\", \"year_value\"]:\n",
    "    df[key] = df[key].apply(toint)"
   ]
  },
  {
   "cell_type": "code",
   "execution_count": 13,
   "metadata": {},
   "outputs": [],
   "source": [
    "df[\"smart_collapse_field\"] = df[\"smart_collapse_field\"].apply(smart_collapse.get)"
   ]
  },
  {
   "cell_type": "code",
   "execution_count": 14,
   "metadata": {},
   "outputs": [],
   "source": [
    "df[[\"id\", \"smart_collapse_field\"]].to_sql(\"smart_collapse_map\", con=db, index=False, if_exists=\"replace\")"
   ]
  },
  {
   "cell_type": "code",
   "execution_count": 15,
   "metadata": {},
   "outputs": [],
   "source": [
    "rubrics = pd.read_csv(\"../data/rubrics.csv\", usecols=[\"level1\", \"level2\", \"id\"])\n",
    "rubrics.columns = [\"rubric0\", \"rubric1\", \"rubric_id\"]"
   ]
  },
  {
   "cell_type": "code",
   "execution_count": 16,
   "metadata": {},
   "outputs": [],
   "source": [
    "df = df.merge(rubrics, how=\"left\")"
   ]
  },
  {
   "cell_type": "code",
   "execution_count": 17,
   "metadata": {},
   "outputs": [],
   "source": [
    "rubrics = df.groupby([\"smart_collapse_field\", \"author_id\", \"rubric0\", \"rubric1\"], as_index=False).agg({\"id\": \"count\"})\n",
    "rubrics.columns = [\"smart_collapse_field\", \"author_id\", \"rubric0\", \"rubric1\", \"cnt\"]"
   ]
  },
  {
   "cell_type": "code",
   "execution_count": 18,
   "metadata": {},
   "outputs": [],
   "source": [
    "df = df.merge(rubrics, how=\"left\").sort_values(by=[\"cnt\", \"rubric1\"], ascending=False)"
   ]
  },
  {
   "cell_type": "code",
   "execution_count": 19,
   "metadata": {},
   "outputs": [],
   "source": [
    "def tr_min(x):\n",
    "    lst = [i for i in x if i != -1]\n",
    "    if lst:\n",
    "        return min(lst)\n",
    "    else:\n",
    "        return -1\n",
    "\n",
    "def tr_max(x):\n",
    "    lst = [i for i in x if i != -1]\n",
    "    if lst:\n",
    "        return max(lst)\n",
    "    else:\n",
    "        return -1"
   ]
  },
  {
   "cell_type": "code",
   "execution_count": 20,
   "metadata": {},
   "outputs": [],
   "source": [
    "df[\"available\"] = df.groupby(\"smart_collapse_field\")[\"available\"].transform(tr_max)"
   ]
  },
  {
   "cell_type": "code",
   "execution_count": 21,
   "metadata": {},
   "outputs": [],
   "source": [
    "df[\"author_id\"] = df.groupby(\"smart_collapse_field\")[\"author_id\"].transform(tr_min)"
   ]
  },
  {
   "cell_type": "code",
   "execution_count": 22,
   "metadata": {},
   "outputs": [],
   "source": [
    "df = df.drop_duplicates(\"smart_collapse_field\", keep=\"first\")"
   ]
  },
  {
   "cell_type": "code",
   "execution_count": 23,
   "metadata": {},
   "outputs": [],
   "source": [
    "for key in [\"rubric0\", \"rubric1\"]:\n",
    "    df[key] = df[key].apply(toint)"
   ]
  },
  {
   "cell_type": "code",
   "execution_count": 24,
   "metadata": {},
   "outputs": [],
   "source": [
    "df[[\"id\", \"smart_collapse_field\", \"title\", \"rubric0\", \"rubric1\", \"rubric_id\", \"author_id\", \"available\", \"year_value\"]].to_sql(\"books\", con=db, index=False)"
   ]
  },
  {
   "cell_type": "code",
   "execution_count": 25,
   "metadata": {},
   "outputs": [],
   "source": [
    "df[[\"author_id\", \"author_fullName\"]].drop_duplicates().to_sql(\"authors\", con=db, index=False)"
   ]
  },
  {
   "cell_type": "code",
   "execution_count": 26,
   "metadata": {},
   "outputs": [],
   "source": [
    "for key in [\"rubric_id\", \"author_id\", \"year_value\", \"rubric0\", \"rubric1\"]:\n",
    "    cur.execute(f\"UPDATE books SET {key} = NULL WHERE {key} = -1\")\n",
    "    db.commit()"
   ]
  },
  {
   "cell_type": "code",
   "execution_count": 27,
   "metadata": {},
   "outputs": [],
   "source": [
    "rubrics = pd.read_csv(\"../data/rubrics.csv\")\n",
    "rubrics.columns = [\"rubric0\", \"rubric1\", \"rubric_id\", \"name\"]\n",
    "rubrics.to_sql(\"rubrics\", con=db, index=False)"
   ]
  },
  {
   "cell_type": "code",
   "execution_count": 28,
   "metadata": {},
   "outputs": [],
   "source": [
    "PATH = \"../data/\""
   ]
  },
  {
   "cell_type": "code",
   "execution_count": 29,
   "metadata": {},
   "outputs": [
    {
     "data": {
      "application/vnd.jupyter.widget-view+json": {
       "model_id": "9b93475223bd458987313475aada9a69",
       "version_major": 2,
       "version_minor": 0
      },
      "text/plain": [
       "  0%|          | 0/16 [00:00<?, ?it/s]"
      ]
     },
     "metadata": {},
     "output_type": "display_data"
    }
   ],
   "source": [
    "data = []\n",
    "for i in tqdm(range(1, 17)):\n",
    "    df = pd.read_csv(PATH + f\"circulaton_{i}.csv\", encoding=\"cp1251\", sep=\";\")\n",
    "    df = df[[\"catalogueRecordID\", \"readerID\", \"startDate\"]]\n",
    "    df[\"startDate\"] = df[\"startDate\"].apply(lambda x: \"-\".join(reversed(x.split(\".\"))))\n",
    "    data.append(df)"
   ]
  },
  {
   "cell_type": "code",
   "execution_count": 30,
   "metadata": {},
   "outputs": [],
   "source": [
    "cur.execute(\"SELECT id, smart_collapse_field FROM books\")\n",
    "smart_collapse = dict(cur.fetchall())"
   ]
  },
  {
   "cell_type": "code",
   "execution_count": 31,
   "metadata": {},
   "outputs": [],
   "source": [
    "df = pd.concat(data)"
   ]
  },
  {
   "cell_type": "code",
   "execution_count": 32,
   "metadata": {},
   "outputs": [],
   "source": [
    "df[\"smart\"] = df[\"catalogueRecordID\"].apply(smart_collapse.get)"
   ]
  },
  {
   "cell_type": "code",
   "execution_count": 33,
   "metadata": {},
   "outputs": [],
   "source": [
    "df = df.dropna(subset=[\"smart\"]).sort_values(by=\"startDate\").drop_duplicates(subset=[\"smart\", \"readerID\"], keep=\"first\")\n",
    "df[\"smart\"] = df[\"smart\"].apply(toint)"
   ]
  },
  {
   "cell_type": "code",
   "execution_count": 34,
   "metadata": {},
   "outputs": [],
   "source": [
    "df.to_sql(\"circulation_short\", con=db, index=False, if_exists=\"replace\")"
   ]
  },
  {
   "cell_type": "code",
   "execution_count": 35,
   "metadata": {},
   "outputs": [],
   "source": [
    "cur.execute('CREATE INDEX \"aidx\" ON \"authors\" (\"author_id\");')\n",
    "cur.execute('CREATE INDEX \"bidx\" ON \"books\" (\"smart_collapse_field\");')\n",
    "cur.execute('CREATE INDEX \"ridx\" ON \"rubrics\" (\"rubric_id\");')\n",
    "cur.execute('CREATE INDEX \"cidx\" ON \"circulation_short\" (\"smart\");')\n",
    "cur.execute('CREATE INDEX \"miidx\" ON \"smart_collapse_map\" (\"id\");')\n",
    "cur.execute('CREATE INDEX \"mcidx\" ON \"smart_collapse_map\" (\"smart_collapse_field\");')\n",
    "db.commit()"
   ]
  },
  {
   "cell_type": "code",
   "execution_count": 37,
   "metadata": {},
   "outputs": [],
   "source": [
    "df = pd.read_sql_query(\"\"\"\n",
    "SELECT count(id) as cnt, smart, books.rubric0, books.id, books.title, authors.author_fullName\n",
    "FROM circulation_short\n",
    "JOIN books ON circulation_short.smart = books.smart_collapse_field\n",
    "JOIN authors ON books.author_id = authors.author_id\n",
    "WHERE startDate >= \"2021-01-01\"\n",
    "GROUP BY smart \n",
    "ORDER BY cnt DESC\n",
    "\"\"\", con=db)\n",
    "df = df.drop_duplicates(subset=[\"rubric0\"]).dropna(subset=[\"rubric0\"])[[\"id\", \"title\", \"author_fullName\"]]\n",
    "df.columns = [\"id\", \"title\", \"author\"]\n",
    "df.to_sql(\"zero_prediction\", index=False, con=db)"
   ]
  },
  {
   "cell_type": "code",
   "execution_count": 38,
   "metadata": {},
   "outputs": [
    {
     "name": "stdout",
     "output_type": "stream",
     "text": [
      "2021-11-06 09:13:41.980738\n",
      "0:08:38.645285\n"
     ]
    }
   ],
   "source": [
    "print(datetime.datetime.now())\n",
    "print(datetime.datetime.now() - start) # была заминка на предыдущем шаге. немного быстрее"
   ]
  }
 ],
 "metadata": {
  "kernelspec": {
   "display_name": "Python 3",
   "language": "python",
   "name": "python3"
  },
  "language_info": {
   "codemirror_mode": {
    "name": "ipython",
    "version": 3
   },
   "file_extension": ".py",
   "mimetype": "text/x-python",
   "name": "python",
   "nbconvert_exporter": "python",
   "pygments_lexer": "ipython3",
   "version": "3.8.10"
  }
 },
 "nbformat": 4,
 "nbformat_minor": 4
}
